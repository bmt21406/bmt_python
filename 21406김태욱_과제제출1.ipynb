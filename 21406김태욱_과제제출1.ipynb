{
  "nbformat": 4,
  "nbformat_minor": 0,
  "metadata": {
    "colab": {
      "name": "21406김태욱_과제제출1.ipynb",
      "provenance": [],
      "authorship_tag": "ABX9TyMqUP8aXL9HLkbg14uAeSfB",
      "include_colab_link": true
    },
    "kernelspec": {
      "name": "python3",
      "display_name": "Python 3"
    }
  },
  "cells": [
    {
      "cell_type": "markdown",
      "metadata": {
        "id": "view-in-github",
        "colab_type": "text"
      },
      "source": [
        "<a href=\"https://colab.research.google.com/github/bmt21406/bmt_python/blob/main/21406%EA%B9%80%ED%83%9C%EC%9A%B1_%EA%B3%BC%EC%A0%9C%EC%A0%9C%EC%B6%9C1.ipynb\" target=\"_parent\"><img src=\"https://colab.research.google.com/assets/colab-badge.svg\" alt=\"Open In Colab\"/></a>"
      ]
    },
    {
      "cell_type": "code",
      "metadata": {
        "id": "ipjFk344UjND"
      },
      "source": [
        "a = 1"
      ],
      "execution_count": 1,
      "outputs": []
    },
    {
      "cell_type": "code",
      "metadata": {
        "id": "QA2f76hdVAuh"
      },
      "source": [
        "b = 3"
      ],
      "execution_count": 2,
      "outputs": []
    },
    {
      "cell_type": "code",
      "metadata": {
        "colab": {
          "base_uri": "https://localhost:8080/"
        },
        "id": "Jz3NpyoyVISX",
        "outputId": "7bd2222d-51bd-4a39-eccd-569be764b3c5"
      },
      "source": [
        "a + b"
      ],
      "execution_count": 4,
      "outputs": [
        {
          "output_type": "execute_result",
          "data": {
            "text/plain": [
              "4"
            ]
          },
          "metadata": {
            "tags": []
          },
          "execution_count": 4
        }
      ]
    },
    {
      "cell_type": "code",
      "metadata": {
        "colab": {
          "base_uri": "https://localhost:8080/"
        },
        "id": "-2TXQ8bqZvrR",
        "outputId": "d2bb17b2-bd2d-4462-b5d3-e6ed0f24c1f9"
      },
      "source": [
        "print('프로그래밍 수업이 넘넘 재미나요.')"
      ],
      "execution_count": 5,
      "outputs": [
        {
          "output_type": "stream",
          "text": [
            "프로그래밍 수업이 넘넘 재미나요.\n"
          ],
          "name": "stdout"
        }
      ]
    }
  ]
}