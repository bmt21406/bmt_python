{
  "nbformat": 4,
  "nbformat_minor": 0,
  "metadata": {
    "colab": {
      "name": "21406_9주차 실습",
      "provenance": [],
      "collapsed_sections": [],
      "authorship_tag": "ABX9TyODZuO14lzvgXZQTX+L5ycn",
      "include_colab_link": true
    },
    "kernelspec": {
      "name": "python3",
      "display_name": "Python 3"
    },
    "language_info": {
      "name": "python"
    }
  },
  "cells": [
    {
      "cell_type": "markdown",
      "metadata": {
        "id": "view-in-github",
        "colab_type": "text"
      },
      "source": [
        "<a href=\"https://colab.research.google.com/github/bmt21406/bmt_python/blob/main/21406_9%EC%A3%BC%EC%B0%A8_%EC%8B%A4%EC%8A%B5.ipynb\" target=\"_parent\"><img src=\"https://colab.research.google.com/assets/colab-badge.svg\" alt=\"Open In Colab\"/></a>"
      ]
    },
    {
      "cell_type": "code",
      "metadata": {
        "id": "NVYLQbabdQMd"
      },
      "source": [
        "import pandas as pd\n",
        "import numpy as np\n",
        "import matplotlib.pyplot as plt"
      ],
      "execution_count": null,
      "outputs": []
    },
    {
      "cell_type": "code",
      "metadata": {
        "id": "AV_TiIJ7fs-7"
      },
      "source": [
        "s = pd.Series(  [1, 2, 5, np.nan, 6, 8]  )"
      ],
      "execution_count": null,
      "outputs": []
    },
    {
      "cell_type": "code",
      "metadata": {
        "id": "3IUr-TecgNTe",
        "colab": {
          "base_uri": "https://localhost:8080/"
        },
        "outputId": "a6793703-6914-4324-a276-7b43a33a316f"
      },
      "source": [
        "s"
      ],
      "execution_count": 7,
      "outputs": [
        {
          "output_type": "execute_result",
          "data": {
            "text/plain": [
              "0    1.0\n",
              "1    2.0\n",
              "2    5.0\n",
              "3    NaN\n",
              "4    6.0\n",
              "5    8.0\n",
              "dtype: float64"
            ]
          },
          "metadata": {
            "tags": []
          },
          "execution_count": 7
        }
      ]
    },
    {
      "cell_type": "code",
      "metadata": {
        "colab": {
          "base_uri": "https://localhost:8080/"
        },
        "id": "oJEcYDwug-Pw",
        "outputId": "e9ca7240-aab7-40fe-9fb8-34695981d478"
      },
      "source": [
        "type(s)"
      ],
      "execution_count": 8,
      "outputs": [
        {
          "output_type": "execute_result",
          "data": {
            "text/plain": [
              "pandas.core.series.Series"
            ]
          },
          "metadata": {
            "tags": []
          },
          "execution_count": 8
        }
      ]
    },
    {
      "cell_type": "code",
      "metadata": {
        "colab": {
          "base_uri": "https://localhost:8080/"
        },
        "id": "hcQW0WOGhBJe",
        "outputId": "e2b0c207-9bbb-4ae4-fae0-57533c00e037"
      },
      "source": [
        "type( [ ] )"
      ],
      "execution_count": 9,
      "outputs": [
        {
          "output_type": "execute_result",
          "data": {
            "text/plain": [
              "list"
            ]
          },
          "metadata": {
            "tags": []
          },
          "execution_count": 9
        }
      ]
    },
    {
      "cell_type": "code",
      "metadata": {
        "colab": {
          "base_uri": "https://localhost:8080/"
        },
        "id": "kmdxiAtFhF-m",
        "outputId": "79113420-8109-4c80-ec2d-11178a51ebbd"
      },
      "source": [
        "type('afdsafd')"
      ],
      "execution_count": 10,
      "outputs": [
        {
          "output_type": "execute_result",
          "data": {
            "text/plain": [
              "str"
            ]
          },
          "metadata": {
            "tags": []
          },
          "execution_count": 10
        }
      ]
    },
    {
      "cell_type": "code",
      "metadata": {
        "id": "x1v0J1EshJ42"
      },
      "source": [
        "pd.date_range('20210430', periods = 6)"
      ],
      "execution_count": 16,
      "outputs": []
    },
    {
      "cell_type": "code",
      "metadata": {
        "colab": {
          "base_uri": "https://localhost:8080/"
        },
        "id": "puOZ-33Phcze",
        "outputId": "8e919135-1f3b-4791-9afa-9f525c77839a"
      },
      "source": [
        "range(0, 5)"
      ],
      "execution_count": 12,
      "outputs": [
        {
          "output_type": "execute_result",
          "data": {
            "text/plain": [
              "range(0, 5)"
            ]
          },
          "metadata": {
            "tags": []
          },
          "execution_count": 12
        }
      ]
    },
    {
      "cell_type": "code",
      "metadata": {
        "id": "zBtbl8MqhezN"
      },
      "source": [
        "dates=pd.date_range('20210430', periods = 6)"
      ],
      "execution_count": 17,
      "outputs": []
    },
    {
      "cell_type": "code",
      "metadata": {
        "id": "x3ONphqiiK_O"
      },
      "source": [
        "df = pd.DataFrame(np.random.randn(6,4), index=dates, columns=list('ABCD')) "
      ],
      "execution_count": 18,
      "outputs": []
    },
    {
      "cell_type": "code",
      "metadata": {
        "colab": {
          "base_uri": "https://localhost:8080/",
          "height": 227
        },
        "id": "6faiHH09ipgH",
        "outputId": "0692dc88-15d7-4801-ce62-228e8845e429"
      },
      "source": [
        "df"
      ],
      "execution_count": 19,
      "outputs": [
        {
          "output_type": "execute_result",
          "data": {
            "text/html": [
              "<div>\n",
              "<style scoped>\n",
              "    .dataframe tbody tr th:only-of-type {\n",
              "        vertical-align: middle;\n",
              "    }\n",
              "\n",
              "    .dataframe tbody tr th {\n",
              "        vertical-align: top;\n",
              "    }\n",
              "\n",
              "    .dataframe thead th {\n",
              "        text-align: right;\n",
              "    }\n",
              "</style>\n",
              "<table border=\"1\" class=\"dataframe\">\n",
              "  <thead>\n",
              "    <tr style=\"text-align: right;\">\n",
              "      <th></th>\n",
              "      <th>A</th>\n",
              "      <th>B</th>\n",
              "      <th>C</th>\n",
              "      <th>D</th>\n",
              "    </tr>\n",
              "  </thead>\n",
              "  <tbody>\n",
              "    <tr>\n",
              "      <th>2021-04-30</th>\n",
              "      <td>0.016615</td>\n",
              "      <td>0.762190</td>\n",
              "      <td>0.128831</td>\n",
              "      <td>-2.264632</td>\n",
              "    </tr>\n",
              "    <tr>\n",
              "      <th>2021-05-01</th>\n",
              "      <td>1.077847</td>\n",
              "      <td>0.350952</td>\n",
              "      <td>-0.012403</td>\n",
              "      <td>1.125894</td>\n",
              "    </tr>\n",
              "    <tr>\n",
              "      <th>2021-05-02</th>\n",
              "      <td>1.757410</td>\n",
              "      <td>1.285293</td>\n",
              "      <td>0.162985</td>\n",
              "      <td>2.209192</td>\n",
              "    </tr>\n",
              "    <tr>\n",
              "      <th>2021-05-03</th>\n",
              "      <td>0.266013</td>\n",
              "      <td>-1.496498</td>\n",
              "      <td>-0.371624</td>\n",
              "      <td>0.401910</td>\n",
              "    </tr>\n",
              "    <tr>\n",
              "      <th>2021-05-04</th>\n",
              "      <td>-1.186579</td>\n",
              "      <td>0.523062</td>\n",
              "      <td>-0.315791</td>\n",
              "      <td>0.406628</td>\n",
              "    </tr>\n",
              "    <tr>\n",
              "      <th>2021-05-05</th>\n",
              "      <td>-0.613686</td>\n",
              "      <td>-1.237175</td>\n",
              "      <td>-0.730066</td>\n",
              "      <td>0.916450</td>\n",
              "    </tr>\n",
              "  </tbody>\n",
              "</table>\n",
              "</div>"
            ],
            "text/plain": [
              "                   A         B         C         D\n",
              "2021-04-30  0.016615  0.762190  0.128831 -2.264632\n",
              "2021-05-01  1.077847  0.350952 -0.012403  1.125894\n",
              "2021-05-02  1.757410  1.285293  0.162985  2.209192\n",
              "2021-05-03  0.266013 -1.496498 -0.371624  0.401910\n",
              "2021-05-04 -1.186579  0.523062 -0.315791  0.406628\n",
              "2021-05-05 -0.613686 -1.237175 -0.730066  0.916450"
            ]
          },
          "metadata": {
            "tags": []
          },
          "execution_count": 19
        }
      ]
    },
    {
      "cell_type": "code",
      "metadata": {
        "colab": {
          "base_uri": "https://localhost:8080/",
          "height": 134
        },
        "id": "JFEjF7Hzir_W",
        "outputId": "e7c5e4df-1dda-42e2-8eab-ed7c8019195b"
      },
      "source": [
        "df2 = pd.DataFrame(\n",
        "    {\n",
        "        'A':1.,\n",
        "        'B':pd.Timestamp('20210430'),\n",
        "        'C':pd.Series(1, index=list(range(4)), dtype='float32' ),\n",
        "        'D':np.array([3]*4, dtype='int32'),  \n",
        "        'E':pd.categorial(['test','train','test','train'])\n",
        "        'F':'foo' \n",
        "    }\n",
        "\n",
        ")"
      ],
      "execution_count": 30,
      "outputs": [
        {
          "output_type": "error",
          "ename": "SyntaxError",
          "evalue": "ignored",
          "traceback": [
            "\u001b[0;36m  File \u001b[0;32m\"<ipython-input-30-a23c0ad53822>\"\u001b[0;36m, line \u001b[0;32m8\u001b[0m\n\u001b[0;31m    'F':'foo'\u001b[0m\n\u001b[0m      ^\u001b[0m\n\u001b[0;31mSyntaxError\u001b[0m\u001b[0;31m:\u001b[0m invalid syntax\n"
          ]
        }
      ]
    },
    {
      "cell_type": "code",
      "metadata": {
        "colab": {
          "base_uri": "https://localhost:8080/",
          "height": 170
        },
        "id": "YA2jTH6rk0bI",
        "outputId": "e1b7855b-a213-47c8-cdd5-f6e1e6cc6892"
      },
      "source": [
        "type(df2)"
      ],
      "execution_count": 25,
      "outputs": [
        {
          "output_type": "error",
          "ename": "NameError",
          "evalue": "ignored",
          "traceback": [
            "\u001b[0;31m---------------------------------------------------------------------------\u001b[0m",
            "\u001b[0;31mNameError\u001b[0m                                 Traceback (most recent call last)",
            "\u001b[0;32m<ipython-input-25-24e0b4820cb2>\u001b[0m in \u001b[0;36m<module>\u001b[0;34m()\u001b[0m\n\u001b[0;32m----> 1\u001b[0;31m \u001b[0mtype\u001b[0m\u001b[0;34m(\u001b[0m\u001b[0mdf2\u001b[0m\u001b[0;34m)\u001b[0m\u001b[0;34m\u001b[0m\u001b[0;34m\u001b[0m\u001b[0m\n\u001b[0m",
            "\u001b[0;31mNameError\u001b[0m: name 'df2' is not defined"
          ]
        }
      ]
    },
    {
      "cell_type": "code",
      "metadata": {
        "colab": {
          "base_uri": "https://localhost:8080/",
          "height": 170
        },
        "id": "KX3b4BbSlMIw",
        "outputId": "5f613bb5-d267-4f98-b8e3-9ea9d2ad7d4a"
      },
      "source": [
        "df2.dtypes"
      ],
      "execution_count": 26,
      "outputs": [
        {
          "output_type": "error",
          "ename": "NameError",
          "evalue": "ignored",
          "traceback": [
            "\u001b[0;31m---------------------------------------------------------------------------\u001b[0m",
            "\u001b[0;31mNameError\u001b[0m                                 Traceback (most recent call last)",
            "\u001b[0;32m<ipython-input-26-a429311f935d>\u001b[0m in \u001b[0;36m<module>\u001b[0;34m()\u001b[0m\n\u001b[0;32m----> 1\u001b[0;31m \u001b[0mdf2\u001b[0m\u001b[0;34m.\u001b[0m\u001b[0mdtypes\u001b[0m\u001b[0;34m\u001b[0m\u001b[0;34m\u001b[0m\u001b[0m\n\u001b[0m",
            "\u001b[0;31mNameError\u001b[0m: name 'df2' is not defined"
          ]
        }
      ]
    },
    {
      "cell_type": "code",
      "metadata": {
        "colab": {
          "base_uri": "https://localhost:8080/",
          "height": 227
        },
        "id": "hTib0HYYlOEO",
        "outputId": "400bfd00-984e-46b0-bfb5-4115a9266eea"
      },
      "source": [
        "df"
      ],
      "execution_count": 32,
      "outputs": [
        {
          "output_type": "execute_result",
          "data": {
            "text/html": [
              "<div>\n",
              "<style scoped>\n",
              "    .dataframe tbody tr th:only-of-type {\n",
              "        vertical-align: middle;\n",
              "    }\n",
              "\n",
              "    .dataframe tbody tr th {\n",
              "        vertical-align: top;\n",
              "    }\n",
              "\n",
              "    .dataframe thead th {\n",
              "        text-align: right;\n",
              "    }\n",
              "</style>\n",
              "<table border=\"1\" class=\"dataframe\">\n",
              "  <thead>\n",
              "    <tr style=\"text-align: right;\">\n",
              "      <th></th>\n",
              "      <th>A</th>\n",
              "      <th>B</th>\n",
              "      <th>C</th>\n",
              "      <th>D</th>\n",
              "    </tr>\n",
              "  </thead>\n",
              "  <tbody>\n",
              "    <tr>\n",
              "      <th>2021-04-30</th>\n",
              "      <td>0.016615</td>\n",
              "      <td>0.762190</td>\n",
              "      <td>0.128831</td>\n",
              "      <td>-2.264632</td>\n",
              "    </tr>\n",
              "    <tr>\n",
              "      <th>2021-05-01</th>\n",
              "      <td>1.077847</td>\n",
              "      <td>0.350952</td>\n",
              "      <td>-0.012403</td>\n",
              "      <td>1.125894</td>\n",
              "    </tr>\n",
              "    <tr>\n",
              "      <th>2021-05-02</th>\n",
              "      <td>1.757410</td>\n",
              "      <td>1.285293</td>\n",
              "      <td>0.162985</td>\n",
              "      <td>2.209192</td>\n",
              "    </tr>\n",
              "    <tr>\n",
              "      <th>2021-05-03</th>\n",
              "      <td>0.266013</td>\n",
              "      <td>-1.496498</td>\n",
              "      <td>-0.371624</td>\n",
              "      <td>0.401910</td>\n",
              "    </tr>\n",
              "    <tr>\n",
              "      <th>2021-05-04</th>\n",
              "      <td>-1.186579</td>\n",
              "      <td>0.523062</td>\n",
              "      <td>-0.315791</td>\n",
              "      <td>0.406628</td>\n",
              "    </tr>\n",
              "    <tr>\n",
              "      <th>2021-05-05</th>\n",
              "      <td>-0.613686</td>\n",
              "      <td>-1.237175</td>\n",
              "      <td>-0.730066</td>\n",
              "      <td>0.916450</td>\n",
              "    </tr>\n",
              "  </tbody>\n",
              "</table>\n",
              "</div>"
            ],
            "text/plain": [
              "                   A         B         C         D\n",
              "2021-04-30  0.016615  0.762190  0.128831 -2.264632\n",
              "2021-05-01  1.077847  0.350952 -0.012403  1.125894\n",
              "2021-05-02  1.757410  1.285293  0.162985  2.209192\n",
              "2021-05-03  0.266013 -1.496498 -0.371624  0.401910\n",
              "2021-05-04 -1.186579  0.523062 -0.315791  0.406628\n",
              "2021-05-05 -0.613686 -1.237175 -0.730066  0.916450"
            ]
          },
          "metadata": {
            "tags": []
          },
          "execution_count": 32
        }
      ]
    },
    {
      "cell_type": "code",
      "metadata": {
        "colab": {
          "base_uri": "https://localhost:8080/",
          "height": 77
        },
        "id": "elrUecAFl30G",
        "outputId": "45e68a60-e14e-4dbb-9d88-22e33442b85e"
      },
      "source": [
        "df.head(1)"
      ],
      "execution_count": 35,
      "outputs": [
        {
          "output_type": "execute_result",
          "data": {
            "text/html": [
              "<div>\n",
              "<style scoped>\n",
              "    .dataframe tbody tr th:only-of-type {\n",
              "        vertical-align: middle;\n",
              "    }\n",
              "\n",
              "    .dataframe tbody tr th {\n",
              "        vertical-align: top;\n",
              "    }\n",
              "\n",
              "    .dataframe thead th {\n",
              "        text-align: right;\n",
              "    }\n",
              "</style>\n",
              "<table border=\"1\" class=\"dataframe\">\n",
              "  <thead>\n",
              "    <tr style=\"text-align: right;\">\n",
              "      <th></th>\n",
              "      <th>A</th>\n",
              "      <th>B</th>\n",
              "      <th>C</th>\n",
              "      <th>D</th>\n",
              "    </tr>\n",
              "  </thead>\n",
              "  <tbody>\n",
              "    <tr>\n",
              "      <th>2021-04-30</th>\n",
              "      <td>0.016615</td>\n",
              "      <td>0.76219</td>\n",
              "      <td>0.128831</td>\n",
              "      <td>-2.264632</td>\n",
              "    </tr>\n",
              "  </tbody>\n",
              "</table>\n",
              "</div>"
            ],
            "text/plain": [
              "                   A        B         C         D\n",
              "2021-04-30  0.016615  0.76219  0.128831 -2.264632"
            ]
          },
          "metadata": {
            "tags": []
          },
          "execution_count": 35
        }
      ]
    },
    {
      "cell_type": "code",
      "metadata": {
        "colab": {
          "base_uri": "https://localhost:8080/",
          "height": 107
        },
        "id": "OumFm9ocl6QG",
        "outputId": "38c5a627-a613-4fee-9cf3-98c5139f464b"
      },
      "source": [
        "df.tail(2)"
      ],
      "execution_count": 36,
      "outputs": [
        {
          "output_type": "execute_result",
          "data": {
            "text/html": [
              "<div>\n",
              "<style scoped>\n",
              "    .dataframe tbody tr th:only-of-type {\n",
              "        vertical-align: middle;\n",
              "    }\n",
              "\n",
              "    .dataframe tbody tr th {\n",
              "        vertical-align: top;\n",
              "    }\n",
              "\n",
              "    .dataframe thead th {\n",
              "        text-align: right;\n",
              "    }\n",
              "</style>\n",
              "<table border=\"1\" class=\"dataframe\">\n",
              "  <thead>\n",
              "    <tr style=\"text-align: right;\">\n",
              "      <th></th>\n",
              "      <th>A</th>\n",
              "      <th>B</th>\n",
              "      <th>C</th>\n",
              "      <th>D</th>\n",
              "    </tr>\n",
              "  </thead>\n",
              "  <tbody>\n",
              "    <tr>\n",
              "      <th>2021-05-04</th>\n",
              "      <td>-1.186579</td>\n",
              "      <td>0.523062</td>\n",
              "      <td>-0.315791</td>\n",
              "      <td>0.406628</td>\n",
              "    </tr>\n",
              "    <tr>\n",
              "      <th>2021-05-05</th>\n",
              "      <td>-0.613686</td>\n",
              "      <td>-1.237175</td>\n",
              "      <td>-0.730066</td>\n",
              "      <td>0.916450</td>\n",
              "    </tr>\n",
              "  </tbody>\n",
              "</table>\n",
              "</div>"
            ],
            "text/plain": [
              "                   A         B         C         D\n",
              "2021-05-04 -1.186579  0.523062 -0.315791  0.406628\n",
              "2021-05-05 -0.613686 -1.237175 -0.730066  0.916450"
            ]
          },
          "metadata": {
            "tags": []
          },
          "execution_count": 36
        }
      ]
    },
    {
      "cell_type": "code",
      "metadata": {
        "colab": {
          "base_uri": "https://localhost:8080/"
        },
        "id": "JYEbVI-ZmKCf",
        "outputId": "c89fc21e-964f-4204-99f2-d0e88643c8b0"
      },
      "source": [
        "df.index"
      ],
      "execution_count": 37,
      "outputs": [
        {
          "output_type": "execute_result",
          "data": {
            "text/plain": [
              "DatetimeIndex(['2021-04-30', '2021-05-01', '2021-05-02', '2021-05-03',\n",
              "               '2021-05-04', '2021-05-05'],\n",
              "              dtype='datetime64[ns]', freq='D')"
            ]
          },
          "metadata": {
            "tags": []
          },
          "execution_count": 37
        }
      ]
    },
    {
      "cell_type": "code",
      "metadata": {
        "colab": {
          "base_uri": "https://localhost:8080/"
        },
        "id": "1_1LtgBTmkAt",
        "outputId": "74211f6e-39cc-4219-a2f4-ef46f598a25c"
      },
      "source": [
        "df.columns"
      ],
      "execution_count": 39,
      "outputs": [
        {
          "output_type": "execute_result",
          "data": {
            "text/plain": [
              "Index(['A', 'B', 'C', 'D'], dtype='object')"
            ]
          },
          "metadata": {
            "tags": []
          },
          "execution_count": 39
        }
      ]
    },
    {
      "cell_type": "code",
      "metadata": {
        "colab": {
          "base_uri": "https://localhost:8080/"
        },
        "id": "S8KKxu1JmnMG",
        "outputId": "0dc79d67-5829-44aa-f28c-bd67601e7ad4"
      },
      "source": [
        "df.values"
      ],
      "execution_count": 40,
      "outputs": [
        {
          "output_type": "execute_result",
          "data": {
            "text/plain": [
              "array([[ 0.016615  ,  0.76219017,  0.12883135, -2.26463221],\n",
              "       [ 1.0778475 ,  0.35095164, -0.01240255,  1.12589383],\n",
              "       [ 1.75740966,  1.28529327,  0.16298542,  2.20919173],\n",
              "       [ 0.26601251, -1.49649771, -0.37162388,  0.40191014],\n",
              "       [-1.18657858,  0.52306231, -0.31579096,  0.40662818],\n",
              "       [-0.61368631, -1.23717532, -0.7300663 ,  0.9164496 ]])"
            ]
          },
          "metadata": {
            "tags": []
          },
          "execution_count": 40
        }
      ]
    },
    {
      "cell_type": "code",
      "metadata": {
        "colab": {
          "base_uri": "https://localhost:8080/",
          "height": 227
        },
        "id": "_RhjpO7umqem",
        "outputId": "075084b5-3bde-48f5-ac41-1cee461439e0"
      },
      "source": [
        "df"
      ],
      "execution_count": 42,
      "outputs": [
        {
          "output_type": "execute_result",
          "data": {
            "text/html": [
              "<div>\n",
              "<style scoped>\n",
              "    .dataframe tbody tr th:only-of-type {\n",
              "        vertical-align: middle;\n",
              "    }\n",
              "\n",
              "    .dataframe tbody tr th {\n",
              "        vertical-align: top;\n",
              "    }\n",
              "\n",
              "    .dataframe thead th {\n",
              "        text-align: right;\n",
              "    }\n",
              "</style>\n",
              "<table border=\"1\" class=\"dataframe\">\n",
              "  <thead>\n",
              "    <tr style=\"text-align: right;\">\n",
              "      <th></th>\n",
              "      <th>A</th>\n",
              "      <th>B</th>\n",
              "      <th>C</th>\n",
              "      <th>D</th>\n",
              "    </tr>\n",
              "  </thead>\n",
              "  <tbody>\n",
              "    <tr>\n",
              "      <th>2021-04-30</th>\n",
              "      <td>0.016615</td>\n",
              "      <td>0.762190</td>\n",
              "      <td>0.128831</td>\n",
              "      <td>-2.264632</td>\n",
              "    </tr>\n",
              "    <tr>\n",
              "      <th>2021-05-01</th>\n",
              "      <td>1.077847</td>\n",
              "      <td>0.350952</td>\n",
              "      <td>-0.012403</td>\n",
              "      <td>1.125894</td>\n",
              "    </tr>\n",
              "    <tr>\n",
              "      <th>2021-05-02</th>\n",
              "      <td>1.757410</td>\n",
              "      <td>1.285293</td>\n",
              "      <td>0.162985</td>\n",
              "      <td>2.209192</td>\n",
              "    </tr>\n",
              "    <tr>\n",
              "      <th>2021-05-03</th>\n",
              "      <td>0.266013</td>\n",
              "      <td>-1.496498</td>\n",
              "      <td>-0.371624</td>\n",
              "      <td>0.401910</td>\n",
              "    </tr>\n",
              "    <tr>\n",
              "      <th>2021-05-04</th>\n",
              "      <td>-1.186579</td>\n",
              "      <td>0.523062</td>\n",
              "      <td>-0.315791</td>\n",
              "      <td>0.406628</td>\n",
              "    </tr>\n",
              "    <tr>\n",
              "      <th>2021-05-05</th>\n",
              "      <td>-0.613686</td>\n",
              "      <td>-1.237175</td>\n",
              "      <td>-0.730066</td>\n",
              "      <td>0.916450</td>\n",
              "    </tr>\n",
              "  </tbody>\n",
              "</table>\n",
              "</div>"
            ],
            "text/plain": [
              "                   A         B         C         D\n",
              "2021-04-30  0.016615  0.762190  0.128831 -2.264632\n",
              "2021-05-01  1.077847  0.350952 -0.012403  1.125894\n",
              "2021-05-02  1.757410  1.285293  0.162985  2.209192\n",
              "2021-05-03  0.266013 -1.496498 -0.371624  0.401910\n",
              "2021-05-04 -1.186579  0.523062 -0.315791  0.406628\n",
              "2021-05-05 -0.613686 -1.237175 -0.730066  0.916450"
            ]
          },
          "metadata": {
            "tags": []
          },
          "execution_count": 42
        }
      ]
    },
    {
      "cell_type": "code",
      "metadata": {
        "colab": {
          "base_uri": "https://localhost:8080/",
          "height": 167
        },
        "id": "s4GPSdGym_CW",
        "outputId": "e75aa188-8699-4d32-977d-7cbdc8922ebe"
      },
      "source": [
        "df.T"
      ],
      "execution_count": 43,
      "outputs": [
        {
          "output_type": "execute_result",
          "data": {
            "text/html": [
              "<div>\n",
              "<style scoped>\n",
              "    .dataframe tbody tr th:only-of-type {\n",
              "        vertical-align: middle;\n",
              "    }\n",
              "\n",
              "    .dataframe tbody tr th {\n",
              "        vertical-align: top;\n",
              "    }\n",
              "\n",
              "    .dataframe thead th {\n",
              "        text-align: right;\n",
              "    }\n",
              "</style>\n",
              "<table border=\"1\" class=\"dataframe\">\n",
              "  <thead>\n",
              "    <tr style=\"text-align: right;\">\n",
              "      <th></th>\n",
              "      <th>2021-04-30</th>\n",
              "      <th>2021-05-01</th>\n",
              "      <th>2021-05-02</th>\n",
              "      <th>2021-05-03</th>\n",
              "      <th>2021-05-04</th>\n",
              "      <th>2021-05-05</th>\n",
              "    </tr>\n",
              "  </thead>\n",
              "  <tbody>\n",
              "    <tr>\n",
              "      <th>A</th>\n",
              "      <td>0.016615</td>\n",
              "      <td>1.077847</td>\n",
              "      <td>1.757410</td>\n",
              "      <td>0.266013</td>\n",
              "      <td>-1.186579</td>\n",
              "      <td>-0.613686</td>\n",
              "    </tr>\n",
              "    <tr>\n",
              "      <th>B</th>\n",
              "      <td>0.762190</td>\n",
              "      <td>0.350952</td>\n",
              "      <td>1.285293</td>\n",
              "      <td>-1.496498</td>\n",
              "      <td>0.523062</td>\n",
              "      <td>-1.237175</td>\n",
              "    </tr>\n",
              "    <tr>\n",
              "      <th>C</th>\n",
              "      <td>0.128831</td>\n",
              "      <td>-0.012403</td>\n",
              "      <td>0.162985</td>\n",
              "      <td>-0.371624</td>\n",
              "      <td>-0.315791</td>\n",
              "      <td>-0.730066</td>\n",
              "    </tr>\n",
              "    <tr>\n",
              "      <th>D</th>\n",
              "      <td>-2.264632</td>\n",
              "      <td>1.125894</td>\n",
              "      <td>2.209192</td>\n",
              "      <td>0.401910</td>\n",
              "      <td>0.406628</td>\n",
              "      <td>0.916450</td>\n",
              "    </tr>\n",
              "  </tbody>\n",
              "</table>\n",
              "</div>"
            ],
            "text/plain": [
              "   2021-04-30  2021-05-01  2021-05-02  2021-05-03  2021-05-04  2021-05-05\n",
              "A    0.016615    1.077847    1.757410    0.266013   -1.186579   -0.613686\n",
              "B    0.762190    0.350952    1.285293   -1.496498    0.523062   -1.237175\n",
              "C    0.128831   -0.012403    0.162985   -0.371624   -0.315791   -0.730066\n",
              "D   -2.264632    1.125894    2.209192    0.401910    0.406628    0.916450"
            ]
          },
          "metadata": {
            "tags": []
          },
          "execution_count": 43
        }
      ]
    },
    {
      "cell_type": "code",
      "metadata": {
        "colab": {
          "base_uri": "https://localhost:8080/",
          "height": 227
        },
        "id": "ulW1VprvnB9o",
        "outputId": "3842327b-7500-43bf-94a7-587efc32f830"
      },
      "source": [
        "df.sort_index(axis=0,ascending=True)"
      ],
      "execution_count": 45,
      "outputs": [
        {
          "output_type": "execute_result",
          "data": {
            "text/html": [
              "<div>\n",
              "<style scoped>\n",
              "    .dataframe tbody tr th:only-of-type {\n",
              "        vertical-align: middle;\n",
              "    }\n",
              "\n",
              "    .dataframe tbody tr th {\n",
              "        vertical-align: top;\n",
              "    }\n",
              "\n",
              "    .dataframe thead th {\n",
              "        text-align: right;\n",
              "    }\n",
              "</style>\n",
              "<table border=\"1\" class=\"dataframe\">\n",
              "  <thead>\n",
              "    <tr style=\"text-align: right;\">\n",
              "      <th></th>\n",
              "      <th>A</th>\n",
              "      <th>B</th>\n",
              "      <th>C</th>\n",
              "      <th>D</th>\n",
              "    </tr>\n",
              "  </thead>\n",
              "  <tbody>\n",
              "    <tr>\n",
              "      <th>2021-04-30</th>\n",
              "      <td>0.016615</td>\n",
              "      <td>0.762190</td>\n",
              "      <td>0.128831</td>\n",
              "      <td>-2.264632</td>\n",
              "    </tr>\n",
              "    <tr>\n",
              "      <th>2021-05-01</th>\n",
              "      <td>1.077847</td>\n",
              "      <td>0.350952</td>\n",
              "      <td>-0.012403</td>\n",
              "      <td>1.125894</td>\n",
              "    </tr>\n",
              "    <tr>\n",
              "      <th>2021-05-02</th>\n",
              "      <td>1.757410</td>\n",
              "      <td>1.285293</td>\n",
              "      <td>0.162985</td>\n",
              "      <td>2.209192</td>\n",
              "    </tr>\n",
              "    <tr>\n",
              "      <th>2021-05-03</th>\n",
              "      <td>0.266013</td>\n",
              "      <td>-1.496498</td>\n",
              "      <td>-0.371624</td>\n",
              "      <td>0.401910</td>\n",
              "    </tr>\n",
              "    <tr>\n",
              "      <th>2021-05-04</th>\n",
              "      <td>-1.186579</td>\n",
              "      <td>0.523062</td>\n",
              "      <td>-0.315791</td>\n",
              "      <td>0.406628</td>\n",
              "    </tr>\n",
              "    <tr>\n",
              "      <th>2021-05-05</th>\n",
              "      <td>-0.613686</td>\n",
              "      <td>-1.237175</td>\n",
              "      <td>-0.730066</td>\n",
              "      <td>0.916450</td>\n",
              "    </tr>\n",
              "  </tbody>\n",
              "</table>\n",
              "</div>"
            ],
            "text/plain": [
              "                   A         B         C         D\n",
              "2021-04-30  0.016615  0.762190  0.128831 -2.264632\n",
              "2021-05-01  1.077847  0.350952 -0.012403  1.125894\n",
              "2021-05-02  1.757410  1.285293  0.162985  2.209192\n",
              "2021-05-03  0.266013 -1.496498 -0.371624  0.401910\n",
              "2021-05-04 -1.186579  0.523062 -0.315791  0.406628\n",
              "2021-05-05 -0.613686 -1.237175 -0.730066  0.916450"
            ]
          },
          "metadata": {
            "tags": []
          },
          "execution_count": 45
        }
      ]
    },
    {
      "cell_type": "code",
      "metadata": {
        "colab": {
          "base_uri": "https://localhost:8080/",
          "height": 227
        },
        "id": "o6YQU8jJpUeo",
        "outputId": "94b50c47-5009-4006-92cc-816b8b8c8aae"
      },
      "source": [
        "df.sort_index(axis=0,ascending=False)"
      ],
      "execution_count": 46,
      "outputs": [
        {
          "output_type": "execute_result",
          "data": {
            "text/html": [
              "<div>\n",
              "<style scoped>\n",
              "    .dataframe tbody tr th:only-of-type {\n",
              "        vertical-align: middle;\n",
              "    }\n",
              "\n",
              "    .dataframe tbody tr th {\n",
              "        vertical-align: top;\n",
              "    }\n",
              "\n",
              "    .dataframe thead th {\n",
              "        text-align: right;\n",
              "    }\n",
              "</style>\n",
              "<table border=\"1\" class=\"dataframe\">\n",
              "  <thead>\n",
              "    <tr style=\"text-align: right;\">\n",
              "      <th></th>\n",
              "      <th>A</th>\n",
              "      <th>B</th>\n",
              "      <th>C</th>\n",
              "      <th>D</th>\n",
              "    </tr>\n",
              "  </thead>\n",
              "  <tbody>\n",
              "    <tr>\n",
              "      <th>2021-05-05</th>\n",
              "      <td>-0.613686</td>\n",
              "      <td>-1.237175</td>\n",
              "      <td>-0.730066</td>\n",
              "      <td>0.916450</td>\n",
              "    </tr>\n",
              "    <tr>\n",
              "      <th>2021-05-04</th>\n",
              "      <td>-1.186579</td>\n",
              "      <td>0.523062</td>\n",
              "      <td>-0.315791</td>\n",
              "      <td>0.406628</td>\n",
              "    </tr>\n",
              "    <tr>\n",
              "      <th>2021-05-03</th>\n",
              "      <td>0.266013</td>\n",
              "      <td>-1.496498</td>\n",
              "      <td>-0.371624</td>\n",
              "      <td>0.401910</td>\n",
              "    </tr>\n",
              "    <tr>\n",
              "      <th>2021-05-02</th>\n",
              "      <td>1.757410</td>\n",
              "      <td>1.285293</td>\n",
              "      <td>0.162985</td>\n",
              "      <td>2.209192</td>\n",
              "    </tr>\n",
              "    <tr>\n",
              "      <th>2021-05-01</th>\n",
              "      <td>1.077847</td>\n",
              "      <td>0.350952</td>\n",
              "      <td>-0.012403</td>\n",
              "      <td>1.125894</td>\n",
              "    </tr>\n",
              "    <tr>\n",
              "      <th>2021-04-30</th>\n",
              "      <td>0.016615</td>\n",
              "      <td>0.762190</td>\n",
              "      <td>0.128831</td>\n",
              "      <td>-2.264632</td>\n",
              "    </tr>\n",
              "  </tbody>\n",
              "</table>\n",
              "</div>"
            ],
            "text/plain": [
              "                   A         B         C         D\n",
              "2021-05-05 -0.613686 -1.237175 -0.730066  0.916450\n",
              "2021-05-04 -1.186579  0.523062 -0.315791  0.406628\n",
              "2021-05-03  0.266013 -1.496498 -0.371624  0.401910\n",
              "2021-05-02  1.757410  1.285293  0.162985  2.209192\n",
              "2021-05-01  1.077847  0.350952 -0.012403  1.125894\n",
              "2021-04-30  0.016615  0.762190  0.128831 -2.264632"
            ]
          },
          "metadata": {
            "tags": []
          },
          "execution_count": 46
        }
      ]
    },
    {
      "cell_type": "code",
      "metadata": {
        "colab": {
          "base_uri": "https://localhost:8080/",
          "height": 227
        },
        "id": "JPNeTksnpoym",
        "outputId": "9803b60a-b276-45ba-cae0-b9a671adafef"
      },
      "source": [
        "df.sort_index(axis=1,ascending=True)"
      ],
      "execution_count": 47,
      "outputs": [
        {
          "output_type": "execute_result",
          "data": {
            "text/html": [
              "<div>\n",
              "<style scoped>\n",
              "    .dataframe tbody tr th:only-of-type {\n",
              "        vertical-align: middle;\n",
              "    }\n",
              "\n",
              "    .dataframe tbody tr th {\n",
              "        vertical-align: top;\n",
              "    }\n",
              "\n",
              "    .dataframe thead th {\n",
              "        text-align: right;\n",
              "    }\n",
              "</style>\n",
              "<table border=\"1\" class=\"dataframe\">\n",
              "  <thead>\n",
              "    <tr style=\"text-align: right;\">\n",
              "      <th></th>\n",
              "      <th>A</th>\n",
              "      <th>B</th>\n",
              "      <th>C</th>\n",
              "      <th>D</th>\n",
              "    </tr>\n",
              "  </thead>\n",
              "  <tbody>\n",
              "    <tr>\n",
              "      <th>2021-04-30</th>\n",
              "      <td>0.016615</td>\n",
              "      <td>0.762190</td>\n",
              "      <td>0.128831</td>\n",
              "      <td>-2.264632</td>\n",
              "    </tr>\n",
              "    <tr>\n",
              "      <th>2021-05-01</th>\n",
              "      <td>1.077847</td>\n",
              "      <td>0.350952</td>\n",
              "      <td>-0.012403</td>\n",
              "      <td>1.125894</td>\n",
              "    </tr>\n",
              "    <tr>\n",
              "      <th>2021-05-02</th>\n",
              "      <td>1.757410</td>\n",
              "      <td>1.285293</td>\n",
              "      <td>0.162985</td>\n",
              "      <td>2.209192</td>\n",
              "    </tr>\n",
              "    <tr>\n",
              "      <th>2021-05-03</th>\n",
              "      <td>0.266013</td>\n",
              "      <td>-1.496498</td>\n",
              "      <td>-0.371624</td>\n",
              "      <td>0.401910</td>\n",
              "    </tr>\n",
              "    <tr>\n",
              "      <th>2021-05-04</th>\n",
              "      <td>-1.186579</td>\n",
              "      <td>0.523062</td>\n",
              "      <td>-0.315791</td>\n",
              "      <td>0.406628</td>\n",
              "    </tr>\n",
              "    <tr>\n",
              "      <th>2021-05-05</th>\n",
              "      <td>-0.613686</td>\n",
              "      <td>-1.237175</td>\n",
              "      <td>-0.730066</td>\n",
              "      <td>0.916450</td>\n",
              "    </tr>\n",
              "  </tbody>\n",
              "</table>\n",
              "</div>"
            ],
            "text/plain": [
              "                   A         B         C         D\n",
              "2021-04-30  0.016615  0.762190  0.128831 -2.264632\n",
              "2021-05-01  1.077847  0.350952 -0.012403  1.125894\n",
              "2021-05-02  1.757410  1.285293  0.162985  2.209192\n",
              "2021-05-03  0.266013 -1.496498 -0.371624  0.401910\n",
              "2021-05-04 -1.186579  0.523062 -0.315791  0.406628\n",
              "2021-05-05 -0.613686 -1.237175 -0.730066  0.916450"
            ]
          },
          "metadata": {
            "tags": []
          },
          "execution_count": 47
        }
      ]
    },
    {
      "cell_type": "code",
      "metadata": {
        "colab": {
          "base_uri": "https://localhost:8080/",
          "height": 227
        },
        "id": "UWpt_8dmpzGn",
        "outputId": "5561a34b-6a57-467c-97bc-75dfab74c063"
      },
      "source": [
        "df.sort_index(axis=1,ascending=False)"
      ],
      "execution_count": 48,
      "outputs": [
        {
          "output_type": "execute_result",
          "data": {
            "text/html": [
              "<div>\n",
              "<style scoped>\n",
              "    .dataframe tbody tr th:only-of-type {\n",
              "        vertical-align: middle;\n",
              "    }\n",
              "\n",
              "    .dataframe tbody tr th {\n",
              "        vertical-align: top;\n",
              "    }\n",
              "\n",
              "    .dataframe thead th {\n",
              "        text-align: right;\n",
              "    }\n",
              "</style>\n",
              "<table border=\"1\" class=\"dataframe\">\n",
              "  <thead>\n",
              "    <tr style=\"text-align: right;\">\n",
              "      <th></th>\n",
              "      <th>D</th>\n",
              "      <th>C</th>\n",
              "      <th>B</th>\n",
              "      <th>A</th>\n",
              "    </tr>\n",
              "  </thead>\n",
              "  <tbody>\n",
              "    <tr>\n",
              "      <th>2021-04-30</th>\n",
              "      <td>-2.264632</td>\n",
              "      <td>0.128831</td>\n",
              "      <td>0.762190</td>\n",
              "      <td>0.016615</td>\n",
              "    </tr>\n",
              "    <tr>\n",
              "      <th>2021-05-01</th>\n",
              "      <td>1.125894</td>\n",
              "      <td>-0.012403</td>\n",
              "      <td>0.350952</td>\n",
              "      <td>1.077847</td>\n",
              "    </tr>\n",
              "    <tr>\n",
              "      <th>2021-05-02</th>\n",
              "      <td>2.209192</td>\n",
              "      <td>0.162985</td>\n",
              "      <td>1.285293</td>\n",
              "      <td>1.757410</td>\n",
              "    </tr>\n",
              "    <tr>\n",
              "      <th>2021-05-03</th>\n",
              "      <td>0.401910</td>\n",
              "      <td>-0.371624</td>\n",
              "      <td>-1.496498</td>\n",
              "      <td>0.266013</td>\n",
              "    </tr>\n",
              "    <tr>\n",
              "      <th>2021-05-04</th>\n",
              "      <td>0.406628</td>\n",
              "      <td>-0.315791</td>\n",
              "      <td>0.523062</td>\n",
              "      <td>-1.186579</td>\n",
              "    </tr>\n",
              "    <tr>\n",
              "      <th>2021-05-05</th>\n",
              "      <td>0.916450</td>\n",
              "      <td>-0.730066</td>\n",
              "      <td>-1.237175</td>\n",
              "      <td>-0.613686</td>\n",
              "    </tr>\n",
              "  </tbody>\n",
              "</table>\n",
              "</div>"
            ],
            "text/plain": [
              "                   D         C         B         A\n",
              "2021-04-30 -2.264632  0.128831  0.762190  0.016615\n",
              "2021-05-01  1.125894 -0.012403  0.350952  1.077847\n",
              "2021-05-02  2.209192  0.162985  1.285293  1.757410\n",
              "2021-05-03  0.401910 -0.371624 -1.496498  0.266013\n",
              "2021-05-04  0.406628 -0.315791  0.523062 -1.186579\n",
              "2021-05-05  0.916450 -0.730066 -1.237175 -0.613686"
            ]
          },
          "metadata": {
            "tags": []
          },
          "execution_count": 48
        }
      ]
    },
    {
      "cell_type": "code",
      "metadata": {
        "colab": {
          "base_uri": "https://localhost:8080/",
          "height": 227
        },
        "id": "4543YCMqqDte",
        "outputId": "8b329dd2-3e5e-4818-ebf0-35f7d7f5f0e7"
      },
      "source": [
        "df"
      ],
      "execution_count": 49,
      "outputs": [
        {
          "output_type": "execute_result",
          "data": {
            "text/html": [
              "<div>\n",
              "<style scoped>\n",
              "    .dataframe tbody tr th:only-of-type {\n",
              "        vertical-align: middle;\n",
              "    }\n",
              "\n",
              "    .dataframe tbody tr th {\n",
              "        vertical-align: top;\n",
              "    }\n",
              "\n",
              "    .dataframe thead th {\n",
              "        text-align: right;\n",
              "    }\n",
              "</style>\n",
              "<table border=\"1\" class=\"dataframe\">\n",
              "  <thead>\n",
              "    <tr style=\"text-align: right;\">\n",
              "      <th></th>\n",
              "      <th>A</th>\n",
              "      <th>B</th>\n",
              "      <th>C</th>\n",
              "      <th>D</th>\n",
              "    </tr>\n",
              "  </thead>\n",
              "  <tbody>\n",
              "    <tr>\n",
              "      <th>2021-04-30</th>\n",
              "      <td>0.016615</td>\n",
              "      <td>0.762190</td>\n",
              "      <td>0.128831</td>\n",
              "      <td>-2.264632</td>\n",
              "    </tr>\n",
              "    <tr>\n",
              "      <th>2021-05-01</th>\n",
              "      <td>1.077847</td>\n",
              "      <td>0.350952</td>\n",
              "      <td>-0.012403</td>\n",
              "      <td>1.125894</td>\n",
              "    </tr>\n",
              "    <tr>\n",
              "      <th>2021-05-02</th>\n",
              "      <td>1.757410</td>\n",
              "      <td>1.285293</td>\n",
              "      <td>0.162985</td>\n",
              "      <td>2.209192</td>\n",
              "    </tr>\n",
              "    <tr>\n",
              "      <th>2021-05-03</th>\n",
              "      <td>0.266013</td>\n",
              "      <td>-1.496498</td>\n",
              "      <td>-0.371624</td>\n",
              "      <td>0.401910</td>\n",
              "    </tr>\n",
              "    <tr>\n",
              "      <th>2021-05-04</th>\n",
              "      <td>-1.186579</td>\n",
              "      <td>0.523062</td>\n",
              "      <td>-0.315791</td>\n",
              "      <td>0.406628</td>\n",
              "    </tr>\n",
              "    <tr>\n",
              "      <th>2021-05-05</th>\n",
              "      <td>-0.613686</td>\n",
              "      <td>-1.237175</td>\n",
              "      <td>-0.730066</td>\n",
              "      <td>0.916450</td>\n",
              "    </tr>\n",
              "  </tbody>\n",
              "</table>\n",
              "</div>"
            ],
            "text/plain": [
              "                   A         B         C         D\n",
              "2021-04-30  0.016615  0.762190  0.128831 -2.264632\n",
              "2021-05-01  1.077847  0.350952 -0.012403  1.125894\n",
              "2021-05-02  1.757410  1.285293  0.162985  2.209192\n",
              "2021-05-03  0.266013 -1.496498 -0.371624  0.401910\n",
              "2021-05-04 -1.186579  0.523062 -0.315791  0.406628\n",
              "2021-05-05 -0.613686 -1.237175 -0.730066  0.916450"
            ]
          },
          "metadata": {
            "tags": []
          },
          "execution_count": 49
        }
      ]
    },
    {
      "cell_type": "code",
      "metadata": {
        "colab": {
          "base_uri": "https://localhost:8080/",
          "height": 227
        },
        "id": "dt7jfhbdqEdW",
        "outputId": "5ebc599c-5a1d-4b1b-8a2e-e60024621e21"
      },
      "source": [
        "df.sort_values(by='B')"
      ],
      "execution_count": 50,
      "outputs": [
        {
          "output_type": "execute_result",
          "data": {
            "text/html": [
              "<div>\n",
              "<style scoped>\n",
              "    .dataframe tbody tr th:only-of-type {\n",
              "        vertical-align: middle;\n",
              "    }\n",
              "\n",
              "    .dataframe tbody tr th {\n",
              "        vertical-align: top;\n",
              "    }\n",
              "\n",
              "    .dataframe thead th {\n",
              "        text-align: right;\n",
              "    }\n",
              "</style>\n",
              "<table border=\"1\" class=\"dataframe\">\n",
              "  <thead>\n",
              "    <tr style=\"text-align: right;\">\n",
              "      <th></th>\n",
              "      <th>A</th>\n",
              "      <th>B</th>\n",
              "      <th>C</th>\n",
              "      <th>D</th>\n",
              "    </tr>\n",
              "  </thead>\n",
              "  <tbody>\n",
              "    <tr>\n",
              "      <th>2021-05-03</th>\n",
              "      <td>0.266013</td>\n",
              "      <td>-1.496498</td>\n",
              "      <td>-0.371624</td>\n",
              "      <td>0.401910</td>\n",
              "    </tr>\n",
              "    <tr>\n",
              "      <th>2021-05-05</th>\n",
              "      <td>-0.613686</td>\n",
              "      <td>-1.237175</td>\n",
              "      <td>-0.730066</td>\n",
              "      <td>0.916450</td>\n",
              "    </tr>\n",
              "    <tr>\n",
              "      <th>2021-05-01</th>\n",
              "      <td>1.077847</td>\n",
              "      <td>0.350952</td>\n",
              "      <td>-0.012403</td>\n",
              "      <td>1.125894</td>\n",
              "    </tr>\n",
              "    <tr>\n",
              "      <th>2021-05-04</th>\n",
              "      <td>-1.186579</td>\n",
              "      <td>0.523062</td>\n",
              "      <td>-0.315791</td>\n",
              "      <td>0.406628</td>\n",
              "    </tr>\n",
              "    <tr>\n",
              "      <th>2021-04-30</th>\n",
              "      <td>0.016615</td>\n",
              "      <td>0.762190</td>\n",
              "      <td>0.128831</td>\n",
              "      <td>-2.264632</td>\n",
              "    </tr>\n",
              "    <tr>\n",
              "      <th>2021-05-02</th>\n",
              "      <td>1.757410</td>\n",
              "      <td>1.285293</td>\n",
              "      <td>0.162985</td>\n",
              "      <td>2.209192</td>\n",
              "    </tr>\n",
              "  </tbody>\n",
              "</table>\n",
              "</div>"
            ],
            "text/plain": [
              "                   A         B         C         D\n",
              "2021-05-03  0.266013 -1.496498 -0.371624  0.401910\n",
              "2021-05-05 -0.613686 -1.237175 -0.730066  0.916450\n",
              "2021-05-01  1.077847  0.350952 -0.012403  1.125894\n",
              "2021-05-04 -1.186579  0.523062 -0.315791  0.406628\n",
              "2021-04-30  0.016615  0.762190  0.128831 -2.264632\n",
              "2021-05-02  1.757410  1.285293  0.162985  2.209192"
            ]
          },
          "metadata": {
            "tags": []
          },
          "execution_count": 50
        }
      ]
    },
    {
      "cell_type": "code",
      "metadata": {
        "colab": {
          "base_uri": "https://localhost:8080/"
        },
        "id": "yli9y89OqMSD",
        "outputId": "c4ac7090-f87b-4e4a-8fdd-07b7e732f54d"
      },
      "source": [
        "dates"
      ],
      "execution_count": 51,
      "outputs": [
        {
          "output_type": "execute_result",
          "data": {
            "text/plain": [
              "DatetimeIndex(['2021-04-30', '2021-05-01', '2021-05-02', '2021-05-03',\n",
              "               '2021-05-04', '2021-05-05'],\n",
              "              dtype='datetime64[ns]', freq='D')"
            ]
          },
          "metadata": {
            "tags": []
          },
          "execution_count": 51
        }
      ]
    },
    {
      "cell_type": "code",
      "metadata": {
        "colab": {
          "base_uri": "https://localhost:8080/",
          "height": 227
        },
        "id": "-HpKd1zIqgUg",
        "outputId": "5b56d83a-fd46-4096-d2db-58008003e931"
      },
      "source": [
        "df"
      ],
      "execution_count": 52,
      "outputs": [
        {
          "output_type": "execute_result",
          "data": {
            "text/html": [
              "<div>\n",
              "<style scoped>\n",
              "    .dataframe tbody tr th:only-of-type {\n",
              "        vertical-align: middle;\n",
              "    }\n",
              "\n",
              "    .dataframe tbody tr th {\n",
              "        vertical-align: top;\n",
              "    }\n",
              "\n",
              "    .dataframe thead th {\n",
              "        text-align: right;\n",
              "    }\n",
              "</style>\n",
              "<table border=\"1\" class=\"dataframe\">\n",
              "  <thead>\n",
              "    <tr style=\"text-align: right;\">\n",
              "      <th></th>\n",
              "      <th>A</th>\n",
              "      <th>B</th>\n",
              "      <th>C</th>\n",
              "      <th>D</th>\n",
              "    </tr>\n",
              "  </thead>\n",
              "  <tbody>\n",
              "    <tr>\n",
              "      <th>2021-04-30</th>\n",
              "      <td>0.016615</td>\n",
              "      <td>0.762190</td>\n",
              "      <td>0.128831</td>\n",
              "      <td>-2.264632</td>\n",
              "    </tr>\n",
              "    <tr>\n",
              "      <th>2021-05-01</th>\n",
              "      <td>1.077847</td>\n",
              "      <td>0.350952</td>\n",
              "      <td>-0.012403</td>\n",
              "      <td>1.125894</td>\n",
              "    </tr>\n",
              "    <tr>\n",
              "      <th>2021-05-02</th>\n",
              "      <td>1.757410</td>\n",
              "      <td>1.285293</td>\n",
              "      <td>0.162985</td>\n",
              "      <td>2.209192</td>\n",
              "    </tr>\n",
              "    <tr>\n",
              "      <th>2021-05-03</th>\n",
              "      <td>0.266013</td>\n",
              "      <td>-1.496498</td>\n",
              "      <td>-0.371624</td>\n",
              "      <td>0.401910</td>\n",
              "    </tr>\n",
              "    <tr>\n",
              "      <th>2021-05-04</th>\n",
              "      <td>-1.186579</td>\n",
              "      <td>0.523062</td>\n",
              "      <td>-0.315791</td>\n",
              "      <td>0.406628</td>\n",
              "    </tr>\n",
              "    <tr>\n",
              "      <th>2021-05-05</th>\n",
              "      <td>-0.613686</td>\n",
              "      <td>-1.237175</td>\n",
              "      <td>-0.730066</td>\n",
              "      <td>0.916450</td>\n",
              "    </tr>\n",
              "  </tbody>\n",
              "</table>\n",
              "</div>"
            ],
            "text/plain": [
              "                   A         B         C         D\n",
              "2021-04-30  0.016615  0.762190  0.128831 -2.264632\n",
              "2021-05-01  1.077847  0.350952 -0.012403  1.125894\n",
              "2021-05-02  1.757410  1.285293  0.162985  2.209192\n",
              "2021-05-03  0.266013 -1.496498 -0.371624  0.401910\n",
              "2021-05-04 -1.186579  0.523062 -0.315791  0.406628\n",
              "2021-05-05 -0.613686 -1.237175 -0.730066  0.916450"
            ]
          },
          "metadata": {
            "tags": []
          },
          "execution_count": 52
        }
      ]
    },
    {
      "cell_type": "code",
      "metadata": {
        "colab": {
          "base_uri": "https://localhost:8080/"
        },
        "id": "SW1AQND9qgs4",
        "outputId": "6067789b-515f-44a1-c3cf-ec4f3bf04920"
      },
      "source": [
        "df['C']"
      ],
      "execution_count": 55,
      "outputs": [
        {
          "output_type": "execute_result",
          "data": {
            "text/plain": [
              "2021-04-30    0.128831\n",
              "2021-05-01   -0.012403\n",
              "2021-05-02    0.162985\n",
              "2021-05-03   -0.371624\n",
              "2021-05-04   -0.315791\n",
              "2021-05-05   -0.730066\n",
              "Freq: D, Name: C, dtype: float64"
            ]
          },
          "metadata": {
            "tags": []
          },
          "execution_count": 55
        }
      ]
    },
    {
      "cell_type": "code",
      "metadata": {
        "colab": {
          "base_uri": "https://localhost:8080/",
          "height": 227
        },
        "id": "EQhrin27qtAe",
        "outputId": "11a2918c-1669-4a1f-eda3-9c6171c83c1a"
      },
      "source": [
        "df[  ['A','C','B']] "
      ],
      "execution_count": 57,
      "outputs": [
        {
          "output_type": "execute_result",
          "data": {
            "text/html": [
              "<div>\n",
              "<style scoped>\n",
              "    .dataframe tbody tr th:only-of-type {\n",
              "        vertical-align: middle;\n",
              "    }\n",
              "\n",
              "    .dataframe tbody tr th {\n",
              "        vertical-align: top;\n",
              "    }\n",
              "\n",
              "    .dataframe thead th {\n",
              "        text-align: right;\n",
              "    }\n",
              "</style>\n",
              "<table border=\"1\" class=\"dataframe\">\n",
              "  <thead>\n",
              "    <tr style=\"text-align: right;\">\n",
              "      <th></th>\n",
              "      <th>A</th>\n",
              "      <th>C</th>\n",
              "      <th>B</th>\n",
              "    </tr>\n",
              "  </thead>\n",
              "  <tbody>\n",
              "    <tr>\n",
              "      <th>2021-04-30</th>\n",
              "      <td>0.016615</td>\n",
              "      <td>0.128831</td>\n",
              "      <td>0.762190</td>\n",
              "    </tr>\n",
              "    <tr>\n",
              "      <th>2021-05-01</th>\n",
              "      <td>1.077847</td>\n",
              "      <td>-0.012403</td>\n",
              "      <td>0.350952</td>\n",
              "    </tr>\n",
              "    <tr>\n",
              "      <th>2021-05-02</th>\n",
              "      <td>1.757410</td>\n",
              "      <td>0.162985</td>\n",
              "      <td>1.285293</td>\n",
              "    </tr>\n",
              "    <tr>\n",
              "      <th>2021-05-03</th>\n",
              "      <td>0.266013</td>\n",
              "      <td>-0.371624</td>\n",
              "      <td>-1.496498</td>\n",
              "    </tr>\n",
              "    <tr>\n",
              "      <th>2021-05-04</th>\n",
              "      <td>-1.186579</td>\n",
              "      <td>-0.315791</td>\n",
              "      <td>0.523062</td>\n",
              "    </tr>\n",
              "    <tr>\n",
              "      <th>2021-05-05</th>\n",
              "      <td>-0.613686</td>\n",
              "      <td>-0.730066</td>\n",
              "      <td>-1.237175</td>\n",
              "    </tr>\n",
              "  </tbody>\n",
              "</table>\n",
              "</div>"
            ],
            "text/plain": [
              "                   A         C         B\n",
              "2021-04-30  0.016615  0.128831  0.762190\n",
              "2021-05-01  1.077847 -0.012403  0.350952\n",
              "2021-05-02  1.757410  0.162985  1.285293\n",
              "2021-05-03  0.266013 -0.371624 -1.496498\n",
              "2021-05-04 -1.186579 -0.315791  0.523062\n",
              "2021-05-05 -0.613686 -0.730066 -1.237175"
            ]
          },
          "metadata": {
            "tags": []
          },
          "execution_count": 57
        }
      ]
    },
    {
      "cell_type": "code",
      "metadata": {
        "colab": {
          "base_uri": "https://localhost:8080/",
          "height": 227
        },
        "id": "d_Civ3pIrSim",
        "outputId": "d84c30f7-a2b4-416e-9879-a0c12a3ace0b"
      },
      "source": [
        "df"
      ],
      "execution_count": 58,
      "outputs": [
        {
          "output_type": "execute_result",
          "data": {
            "text/html": [
              "<div>\n",
              "<style scoped>\n",
              "    .dataframe tbody tr th:only-of-type {\n",
              "        vertical-align: middle;\n",
              "    }\n",
              "\n",
              "    .dataframe tbody tr th {\n",
              "        vertical-align: top;\n",
              "    }\n",
              "\n",
              "    .dataframe thead th {\n",
              "        text-align: right;\n",
              "    }\n",
              "</style>\n",
              "<table border=\"1\" class=\"dataframe\">\n",
              "  <thead>\n",
              "    <tr style=\"text-align: right;\">\n",
              "      <th></th>\n",
              "      <th>A</th>\n",
              "      <th>B</th>\n",
              "      <th>C</th>\n",
              "      <th>D</th>\n",
              "    </tr>\n",
              "  </thead>\n",
              "  <tbody>\n",
              "    <tr>\n",
              "      <th>2021-04-30</th>\n",
              "      <td>0.016615</td>\n",
              "      <td>0.762190</td>\n",
              "      <td>0.128831</td>\n",
              "      <td>-2.264632</td>\n",
              "    </tr>\n",
              "    <tr>\n",
              "      <th>2021-05-01</th>\n",
              "      <td>1.077847</td>\n",
              "      <td>0.350952</td>\n",
              "      <td>-0.012403</td>\n",
              "      <td>1.125894</td>\n",
              "    </tr>\n",
              "    <tr>\n",
              "      <th>2021-05-02</th>\n",
              "      <td>1.757410</td>\n",
              "      <td>1.285293</td>\n",
              "      <td>0.162985</td>\n",
              "      <td>2.209192</td>\n",
              "    </tr>\n",
              "    <tr>\n",
              "      <th>2021-05-03</th>\n",
              "      <td>0.266013</td>\n",
              "      <td>-1.496498</td>\n",
              "      <td>-0.371624</td>\n",
              "      <td>0.401910</td>\n",
              "    </tr>\n",
              "    <tr>\n",
              "      <th>2021-05-04</th>\n",
              "      <td>-1.186579</td>\n",
              "      <td>0.523062</td>\n",
              "      <td>-0.315791</td>\n",
              "      <td>0.406628</td>\n",
              "    </tr>\n",
              "    <tr>\n",
              "      <th>2021-05-05</th>\n",
              "      <td>-0.613686</td>\n",
              "      <td>-1.237175</td>\n",
              "      <td>-0.730066</td>\n",
              "      <td>0.916450</td>\n",
              "    </tr>\n",
              "  </tbody>\n",
              "</table>\n",
              "</div>"
            ],
            "text/plain": [
              "                   A         B         C         D\n",
              "2021-04-30  0.016615  0.762190  0.128831 -2.264632\n",
              "2021-05-01  1.077847  0.350952 -0.012403  1.125894\n",
              "2021-05-02  1.757410  1.285293  0.162985  2.209192\n",
              "2021-05-03  0.266013 -1.496498 -0.371624  0.401910\n",
              "2021-05-04 -1.186579  0.523062 -0.315791  0.406628\n",
              "2021-05-05 -0.613686 -1.237175 -0.730066  0.916450"
            ]
          },
          "metadata": {
            "tags": []
          },
          "execution_count": 58
        }
      ]
    },
    {
      "cell_type": "code",
      "metadata": {
        "colab": {
          "base_uri": "https://localhost:8080/",
          "height": 77
        },
        "id": "-BwlpCQCrhLv",
        "outputId": "3a876f45-18db-416a-f30e-cb1f36046227"
      },
      "source": [
        "df[0:1]"
      ],
      "execution_count": 60,
      "outputs": [
        {
          "output_type": "execute_result",
          "data": {
            "text/html": [
              "<div>\n",
              "<style scoped>\n",
              "    .dataframe tbody tr th:only-of-type {\n",
              "        vertical-align: middle;\n",
              "    }\n",
              "\n",
              "    .dataframe tbody tr th {\n",
              "        vertical-align: top;\n",
              "    }\n",
              "\n",
              "    .dataframe thead th {\n",
              "        text-align: right;\n",
              "    }\n",
              "</style>\n",
              "<table border=\"1\" class=\"dataframe\">\n",
              "  <thead>\n",
              "    <tr style=\"text-align: right;\">\n",
              "      <th></th>\n",
              "      <th>A</th>\n",
              "      <th>B</th>\n",
              "      <th>C</th>\n",
              "      <th>D</th>\n",
              "    </tr>\n",
              "  </thead>\n",
              "  <tbody>\n",
              "    <tr>\n",
              "      <th>2021-04-30</th>\n",
              "      <td>0.016615</td>\n",
              "      <td>0.76219</td>\n",
              "      <td>0.128831</td>\n",
              "      <td>-2.264632</td>\n",
              "    </tr>\n",
              "  </tbody>\n",
              "</table>\n",
              "</div>"
            ],
            "text/plain": [
              "                   A        B         C         D\n",
              "2021-04-30  0.016615  0.76219  0.128831 -2.264632"
            ]
          },
          "metadata": {
            "tags": []
          },
          "execution_count": 60
        }
      ]
    },
    {
      "cell_type": "code",
      "metadata": {
        "colab": {
          "base_uri": "https://localhost:8080/",
          "height": 107
        },
        "id": "xQDMi6_SrkEu",
        "outputId": "aa6e1a44-0bf7-4659-bf2a-b14b29e6be74"
      },
      "source": [
        "df['20210430':'20210501']"
      ],
      "execution_count": 61,
      "outputs": [
        {
          "output_type": "execute_result",
          "data": {
            "text/html": [
              "<div>\n",
              "<style scoped>\n",
              "    .dataframe tbody tr th:only-of-type {\n",
              "        vertical-align: middle;\n",
              "    }\n",
              "\n",
              "    .dataframe tbody tr th {\n",
              "        vertical-align: top;\n",
              "    }\n",
              "\n",
              "    .dataframe thead th {\n",
              "        text-align: right;\n",
              "    }\n",
              "</style>\n",
              "<table border=\"1\" class=\"dataframe\">\n",
              "  <thead>\n",
              "    <tr style=\"text-align: right;\">\n",
              "      <th></th>\n",
              "      <th>A</th>\n",
              "      <th>B</th>\n",
              "      <th>C</th>\n",
              "      <th>D</th>\n",
              "    </tr>\n",
              "  </thead>\n",
              "  <tbody>\n",
              "    <tr>\n",
              "      <th>2021-04-30</th>\n",
              "      <td>0.016615</td>\n",
              "      <td>0.762190</td>\n",
              "      <td>0.128831</td>\n",
              "      <td>-2.264632</td>\n",
              "    </tr>\n",
              "    <tr>\n",
              "      <th>2021-05-01</th>\n",
              "      <td>1.077847</td>\n",
              "      <td>0.350952</td>\n",
              "      <td>-0.012403</td>\n",
              "      <td>1.125894</td>\n",
              "    </tr>\n",
              "  </tbody>\n",
              "</table>\n",
              "</div>"
            ],
            "text/plain": [
              "                   A         B         C         D\n",
              "2021-04-30  0.016615  0.762190  0.128831 -2.264632\n",
              "2021-05-01  1.077847  0.350952 -0.012403  1.125894"
            ]
          },
          "metadata": {
            "tags": []
          },
          "execution_count": 61
        }
      ]
    },
    {
      "cell_type": "code",
      "metadata": {
        "colab": {
          "base_uri": "https://localhost:8080/",
          "height": 227
        },
        "id": "SbIIGsp_sOrI",
        "outputId": "b3c7efa2-ab9c-4d63-d873-b5ec2db07c8d"
      },
      "source": [
        "df"
      ],
      "execution_count": 62,
      "outputs": [
        {
          "output_type": "execute_result",
          "data": {
            "text/html": [
              "<div>\n",
              "<style scoped>\n",
              "    .dataframe tbody tr th:only-of-type {\n",
              "        vertical-align: middle;\n",
              "    }\n",
              "\n",
              "    .dataframe tbody tr th {\n",
              "        vertical-align: top;\n",
              "    }\n",
              "\n",
              "    .dataframe thead th {\n",
              "        text-align: right;\n",
              "    }\n",
              "</style>\n",
              "<table border=\"1\" class=\"dataframe\">\n",
              "  <thead>\n",
              "    <tr style=\"text-align: right;\">\n",
              "      <th></th>\n",
              "      <th>A</th>\n",
              "      <th>B</th>\n",
              "      <th>C</th>\n",
              "      <th>D</th>\n",
              "    </tr>\n",
              "  </thead>\n",
              "  <tbody>\n",
              "    <tr>\n",
              "      <th>2021-04-30</th>\n",
              "      <td>0.016615</td>\n",
              "      <td>0.762190</td>\n",
              "      <td>0.128831</td>\n",
              "      <td>-2.264632</td>\n",
              "    </tr>\n",
              "    <tr>\n",
              "      <th>2021-05-01</th>\n",
              "      <td>1.077847</td>\n",
              "      <td>0.350952</td>\n",
              "      <td>-0.012403</td>\n",
              "      <td>1.125894</td>\n",
              "    </tr>\n",
              "    <tr>\n",
              "      <th>2021-05-02</th>\n",
              "      <td>1.757410</td>\n",
              "      <td>1.285293</td>\n",
              "      <td>0.162985</td>\n",
              "      <td>2.209192</td>\n",
              "    </tr>\n",
              "    <tr>\n",
              "      <th>2021-05-03</th>\n",
              "      <td>0.266013</td>\n",
              "      <td>-1.496498</td>\n",
              "      <td>-0.371624</td>\n",
              "      <td>0.401910</td>\n",
              "    </tr>\n",
              "    <tr>\n",
              "      <th>2021-05-04</th>\n",
              "      <td>-1.186579</td>\n",
              "      <td>0.523062</td>\n",
              "      <td>-0.315791</td>\n",
              "      <td>0.406628</td>\n",
              "    </tr>\n",
              "    <tr>\n",
              "      <th>2021-05-05</th>\n",
              "      <td>-0.613686</td>\n",
              "      <td>-1.237175</td>\n",
              "      <td>-0.730066</td>\n",
              "      <td>0.916450</td>\n",
              "    </tr>\n",
              "  </tbody>\n",
              "</table>\n",
              "</div>"
            ],
            "text/plain": [
              "                   A         B         C         D\n",
              "2021-04-30  0.016615  0.762190  0.128831 -2.264632\n",
              "2021-05-01  1.077847  0.350952 -0.012403  1.125894\n",
              "2021-05-02  1.757410  1.285293  0.162985  2.209192\n",
              "2021-05-03  0.266013 -1.496498 -0.371624  0.401910\n",
              "2021-05-04 -1.186579  0.523062 -0.315791  0.406628\n",
              "2021-05-05 -0.613686 -1.237175 -0.730066  0.916450"
            ]
          },
          "metadata": {
            "tags": []
          },
          "execution_count": 62
        }
      ]
    },
    {
      "cell_type": "code",
      "metadata": {
        "colab": {
          "base_uri": "https://localhost:8080/",
          "height": 294
        },
        "id": "YnO92Q_Ysr6_",
        "outputId": "4fb20ac0-360d-472c-d5f2-42496d3ead88"
      },
      "source": [
        "df.log['20210430','A']"
      ],
      "execution_count": 65,
      "outputs": [
        {
          "output_type": "error",
          "ename": "AttributeError",
          "evalue": "ignored",
          "traceback": [
            "\u001b[0;31m---------------------------------------------------------------------------\u001b[0m",
            "\u001b[0;31mAttributeError\u001b[0m                            Traceback (most recent call last)",
            "\u001b[0;32m<ipython-input-65-01f1b0fc4a41>\u001b[0m in \u001b[0;36m<module>\u001b[0;34m()\u001b[0m\n\u001b[0;32m----> 1\u001b[0;31m \u001b[0mdf\u001b[0m\u001b[0;34m.\u001b[0m\u001b[0mlog\u001b[0m\u001b[0;34m[\u001b[0m\u001b[0;34m'20210430'\u001b[0m\u001b[0;34m,\u001b[0m\u001b[0;34m'A'\u001b[0m\u001b[0;34m]\u001b[0m\u001b[0;34m\u001b[0m\u001b[0;34m\u001b[0m\u001b[0m\n\u001b[0m",
            "\u001b[0;32m/usr/local/lib/python3.7/dist-packages/pandas/core/generic.py\u001b[0m in \u001b[0;36m__getattr__\u001b[0;34m(self, name)\u001b[0m\n\u001b[1;32m   5139\u001b[0m             \u001b[0;32mif\u001b[0m \u001b[0mself\u001b[0m\u001b[0;34m.\u001b[0m\u001b[0m_info_axis\u001b[0m\u001b[0;34m.\u001b[0m\u001b[0m_can_hold_identifiers_and_holds_name\u001b[0m\u001b[0;34m(\u001b[0m\u001b[0mname\u001b[0m\u001b[0;34m)\u001b[0m\u001b[0;34m:\u001b[0m\u001b[0;34m\u001b[0m\u001b[0;34m\u001b[0m\u001b[0m\n\u001b[1;32m   5140\u001b[0m                 \u001b[0;32mreturn\u001b[0m \u001b[0mself\u001b[0m\u001b[0;34m[\u001b[0m\u001b[0mname\u001b[0m\u001b[0;34m]\u001b[0m\u001b[0;34m\u001b[0m\u001b[0;34m\u001b[0m\u001b[0m\n\u001b[0;32m-> 5141\u001b[0;31m             \u001b[0;32mreturn\u001b[0m \u001b[0mobject\u001b[0m\u001b[0;34m.\u001b[0m\u001b[0m__getattribute__\u001b[0m\u001b[0;34m(\u001b[0m\u001b[0mself\u001b[0m\u001b[0;34m,\u001b[0m \u001b[0mname\u001b[0m\u001b[0;34m)\u001b[0m\u001b[0;34m\u001b[0m\u001b[0;34m\u001b[0m\u001b[0m\n\u001b[0m\u001b[1;32m   5142\u001b[0m \u001b[0;34m\u001b[0m\u001b[0m\n\u001b[1;32m   5143\u001b[0m     \u001b[0;32mdef\u001b[0m \u001b[0m__setattr__\u001b[0m\u001b[0;34m(\u001b[0m\u001b[0mself\u001b[0m\u001b[0;34m,\u001b[0m \u001b[0mname\u001b[0m\u001b[0;34m:\u001b[0m \u001b[0mstr\u001b[0m\u001b[0;34m,\u001b[0m \u001b[0mvalue\u001b[0m\u001b[0;34m)\u001b[0m \u001b[0;34m->\u001b[0m \u001b[0;32mNone\u001b[0m\u001b[0;34m:\u001b[0m\u001b[0;34m\u001b[0m\u001b[0;34m\u001b[0m\u001b[0m\n",
            "\u001b[0;31mAttributeError\u001b[0m: 'DataFrame' object has no attribute 'log'"
          ]
        }
      ]
    },
    {
      "cell_type": "code",
      "metadata": {
        "id": "v6iUb45-szOW"
      },
      "source": [
        " "
      ],
      "execution_count": null,
      "outputs": []
    }
  ]
}