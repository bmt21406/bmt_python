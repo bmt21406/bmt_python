{
  "nbformat": 4,
  "nbformat_minor": 0,
  "metadata": {
    "colab": {
      "name": "21406_10주차 실습.ipynb 의 사본",
      "provenance": [],
      "collapsed_sections": [],
      "authorship_tag": "ABX9TyOtOLlEKUW2xGHAMRCCTfoY",
      "include_colab_link": true
    },
    "kernelspec": {
      "name": "python3",
      "display_name": "Python 3"
    },
    "language_info": {
      "name": "python"
    }
  },
  "cells": [
    {
      "cell_type": "markdown",
      "metadata": {
        "id": "view-in-github",
        "colab_type": "text"
      },
      "source": [
        "<a href=\"https://colab.research.google.com/github/bmt21406/bmt_python/blob/main/21406_10%EC%A3%BC%EC%B0%A8_%EC%8B%A4%EC%8A%B5_ipynb_%EC%9D%98_%EC%82%AC%EB%B3%B8.ipynb\" target=\"_parent\"><img src=\"https://colab.research.google.com/assets/colab-badge.svg\" alt=\"Open In Colab\"/></a>"
      ]
    },
    {
      "cell_type": "code",
      "metadata": {
        "id": "SSn4VDGUhwbr"
      },
      "source": [
        "import pandas as pd\n",
        "import numpy as np\n",
        "import matplotlib.pyplot as plt  "
      ],
      "execution_count": 10,
      "outputs": []
    },
    {
      "cell_type": "code",
      "metadata": {
        "id": "6eNMu2S7ig86"
      },
      "source": [
        "row = pd.date_range('20210507' , periods=6)\n",
        "col = list( 'ABCD')\n",
        "df=pd.DataFrame(np.random.randn(6,4), index = row, columns=col) "
      ],
      "execution_count": 11,
      "outputs": []
    },
    {
      "cell_type": "code",
      "metadata": {
        "colab": {
          "base_uri": "https://localhost:8080/",
          "height": 228
        },
        "id": "h0ADS7JijUYw",
        "outputId": "fa469a77-566c-44c1-c7fa-f7dabe6c4a30"
      },
      "source": [
        "df"
      ],
      "execution_count": 12,
      "outputs": [
        {
          "output_type": "execute_result",
          "data": {
            "text/html": [
              "<div>\n",
              "<style scoped>\n",
              "    .dataframe tbody tr th:only-of-type {\n",
              "        vertical-align: middle;\n",
              "    }\n",
              "\n",
              "    .dataframe tbody tr th {\n",
              "        vertical-align: top;\n",
              "    }\n",
              "\n",
              "    .dataframe thead th {\n",
              "        text-align: right;\n",
              "    }\n",
              "</style>\n",
              "<table border=\"1\" class=\"dataframe\">\n",
              "  <thead>\n",
              "    <tr style=\"text-align: right;\">\n",
              "      <th></th>\n",
              "      <th>A</th>\n",
              "      <th>B</th>\n",
              "      <th>C</th>\n",
              "      <th>D</th>\n",
              "    </tr>\n",
              "  </thead>\n",
              "  <tbody>\n",
              "    <tr>\n",
              "      <th>2021-05-07</th>\n",
              "      <td>0.234056</td>\n",
              "      <td>-0.568455</td>\n",
              "      <td>0.125029</td>\n",
              "      <td>-0.695020</td>\n",
              "    </tr>\n",
              "    <tr>\n",
              "      <th>2021-05-08</th>\n",
              "      <td>-1.132137</td>\n",
              "      <td>0.933871</td>\n",
              "      <td>0.072002</td>\n",
              "      <td>1.010273</td>\n",
              "    </tr>\n",
              "    <tr>\n",
              "      <th>2021-05-09</th>\n",
              "      <td>-0.361573</td>\n",
              "      <td>-0.949049</td>\n",
              "      <td>-0.418543</td>\n",
              "      <td>1.158872</td>\n",
              "    </tr>\n",
              "    <tr>\n",
              "      <th>2021-05-10</th>\n",
              "      <td>0.546179</td>\n",
              "      <td>0.642193</td>\n",
              "      <td>0.572185</td>\n",
              "      <td>-0.178186</td>\n",
              "    </tr>\n",
              "    <tr>\n",
              "      <th>2021-05-11</th>\n",
              "      <td>-1.716781</td>\n",
              "      <td>0.056379</td>\n",
              "      <td>0.653987</td>\n",
              "      <td>-0.279796</td>\n",
              "    </tr>\n",
              "    <tr>\n",
              "      <th>2021-05-12</th>\n",
              "      <td>-0.365545</td>\n",
              "      <td>0.148888</td>\n",
              "      <td>0.544131</td>\n",
              "      <td>-0.379901</td>\n",
              "    </tr>\n",
              "  </tbody>\n",
              "</table>\n",
              "</div>"
            ],
            "text/plain": [
              "                   A         B         C         D\n",
              "2021-05-07  0.234056 -0.568455  0.125029 -0.695020\n",
              "2021-05-08 -1.132137  0.933871  0.072002  1.010273\n",
              "2021-05-09 -0.361573 -0.949049 -0.418543  1.158872\n",
              "2021-05-10  0.546179  0.642193  0.572185 -0.178186\n",
              "2021-05-11 -1.716781  0.056379  0.653987 -0.279796\n",
              "2021-05-12 -0.365545  0.148888  0.544131 -0.379901"
            ]
          },
          "metadata": {
            "tags": []
          },
          "execution_count": 12
        }
      ]
    },
    {
      "cell_type": "code",
      "metadata": {
        "id": "sb7Os0vOj_uZ"
      },
      "source": [
        "s1 = pd.Series([1, 2, 3, 4, 5, 6], index=pd.date_range('20210507', periods=6))"
      ],
      "execution_count": 13,
      "outputs": []
    },
    {
      "cell_type": "code",
      "metadata": {
        "id": "pwJn_XMjmALP"
      },
      "source": [
        "df['F'] = s1"
      ],
      "execution_count": 14,
      "outputs": []
    },
    {
      "cell_type": "code",
      "metadata": {
        "colab": {
          "base_uri": "https://localhost:8080/",
          "height": 228
        },
        "id": "UnhM0Te6mIbX",
        "outputId": "d31d50f7-fe36-4d3d-d3aa-0523e71b871a"
      },
      "source": [
        "df"
      ],
      "execution_count": 15,
      "outputs": [
        {
          "output_type": "execute_result",
          "data": {
            "text/html": [
              "<div>\n",
              "<style scoped>\n",
              "    .dataframe tbody tr th:only-of-type {\n",
              "        vertical-align: middle;\n",
              "    }\n",
              "\n",
              "    .dataframe tbody tr th {\n",
              "        vertical-align: top;\n",
              "    }\n",
              "\n",
              "    .dataframe thead th {\n",
              "        text-align: right;\n",
              "    }\n",
              "</style>\n",
              "<table border=\"1\" class=\"dataframe\">\n",
              "  <thead>\n",
              "    <tr style=\"text-align: right;\">\n",
              "      <th></th>\n",
              "      <th>A</th>\n",
              "      <th>B</th>\n",
              "      <th>C</th>\n",
              "      <th>D</th>\n",
              "      <th>F</th>\n",
              "    </tr>\n",
              "  </thead>\n",
              "  <tbody>\n",
              "    <tr>\n",
              "      <th>2021-05-07</th>\n",
              "      <td>0.234056</td>\n",
              "      <td>-0.568455</td>\n",
              "      <td>0.125029</td>\n",
              "      <td>-0.695020</td>\n",
              "      <td>1</td>\n",
              "    </tr>\n",
              "    <tr>\n",
              "      <th>2021-05-08</th>\n",
              "      <td>-1.132137</td>\n",
              "      <td>0.933871</td>\n",
              "      <td>0.072002</td>\n",
              "      <td>1.010273</td>\n",
              "      <td>2</td>\n",
              "    </tr>\n",
              "    <tr>\n",
              "      <th>2021-05-09</th>\n",
              "      <td>-0.361573</td>\n",
              "      <td>-0.949049</td>\n",
              "      <td>-0.418543</td>\n",
              "      <td>1.158872</td>\n",
              "      <td>3</td>\n",
              "    </tr>\n",
              "    <tr>\n",
              "      <th>2021-05-10</th>\n",
              "      <td>0.546179</td>\n",
              "      <td>0.642193</td>\n",
              "      <td>0.572185</td>\n",
              "      <td>-0.178186</td>\n",
              "      <td>4</td>\n",
              "    </tr>\n",
              "    <tr>\n",
              "      <th>2021-05-11</th>\n",
              "      <td>-1.716781</td>\n",
              "      <td>0.056379</td>\n",
              "      <td>0.653987</td>\n",
              "      <td>-0.279796</td>\n",
              "      <td>5</td>\n",
              "    </tr>\n",
              "    <tr>\n",
              "      <th>2021-05-12</th>\n",
              "      <td>-0.365545</td>\n",
              "      <td>0.148888</td>\n",
              "      <td>0.544131</td>\n",
              "      <td>-0.379901</td>\n",
              "      <td>6</td>\n",
              "    </tr>\n",
              "  </tbody>\n",
              "</table>\n",
              "</div>"
            ],
            "text/plain": [
              "                   A         B         C         D  F\n",
              "2021-05-07  0.234056 -0.568455  0.125029 -0.695020  1\n",
              "2021-05-08 -1.132137  0.933871  0.072002  1.010273  2\n",
              "2021-05-09 -0.361573 -0.949049 -0.418543  1.158872  3\n",
              "2021-05-10  0.546179  0.642193  0.572185 -0.178186  4\n",
              "2021-05-11 -1.716781  0.056379  0.653987 -0.279796  5\n",
              "2021-05-12 -0.365545  0.148888  0.544131 -0.379901  6"
            ]
          },
          "metadata": {
            "tags": []
          },
          "execution_count": 15
        }
      ]
    },
    {
      "cell_type": "code",
      "metadata": {
        "colab": {
          "base_uri": "https://localhost:8080/",
          "height": 228
        },
        "id": "Ae7qaZkrmOe3",
        "outputId": "caf73d36-564e-4475-aca5-cf4287d3a9ca"
      },
      "source": [
        "df>0"
      ],
      "execution_count": 16,
      "outputs": [
        {
          "output_type": "execute_result",
          "data": {
            "text/html": [
              "<div>\n",
              "<style scoped>\n",
              "    .dataframe tbody tr th:only-of-type {\n",
              "        vertical-align: middle;\n",
              "    }\n",
              "\n",
              "    .dataframe tbody tr th {\n",
              "        vertical-align: top;\n",
              "    }\n",
              "\n",
              "    .dataframe thead th {\n",
              "        text-align: right;\n",
              "    }\n",
              "</style>\n",
              "<table border=\"1\" class=\"dataframe\">\n",
              "  <thead>\n",
              "    <tr style=\"text-align: right;\">\n",
              "      <th></th>\n",
              "      <th>A</th>\n",
              "      <th>B</th>\n",
              "      <th>C</th>\n",
              "      <th>D</th>\n",
              "      <th>F</th>\n",
              "    </tr>\n",
              "  </thead>\n",
              "  <tbody>\n",
              "    <tr>\n",
              "      <th>2021-05-07</th>\n",
              "      <td>True</td>\n",
              "      <td>False</td>\n",
              "      <td>True</td>\n",
              "      <td>False</td>\n",
              "      <td>True</td>\n",
              "    </tr>\n",
              "    <tr>\n",
              "      <th>2021-05-08</th>\n",
              "      <td>False</td>\n",
              "      <td>True</td>\n",
              "      <td>True</td>\n",
              "      <td>True</td>\n",
              "      <td>True</td>\n",
              "    </tr>\n",
              "    <tr>\n",
              "      <th>2021-05-09</th>\n",
              "      <td>False</td>\n",
              "      <td>False</td>\n",
              "      <td>False</td>\n",
              "      <td>True</td>\n",
              "      <td>True</td>\n",
              "    </tr>\n",
              "    <tr>\n",
              "      <th>2021-05-10</th>\n",
              "      <td>True</td>\n",
              "      <td>True</td>\n",
              "      <td>True</td>\n",
              "      <td>False</td>\n",
              "      <td>True</td>\n",
              "    </tr>\n",
              "    <tr>\n",
              "      <th>2021-05-11</th>\n",
              "      <td>False</td>\n",
              "      <td>True</td>\n",
              "      <td>True</td>\n",
              "      <td>False</td>\n",
              "      <td>True</td>\n",
              "    </tr>\n",
              "    <tr>\n",
              "      <th>2021-05-12</th>\n",
              "      <td>False</td>\n",
              "      <td>True</td>\n",
              "      <td>True</td>\n",
              "      <td>False</td>\n",
              "      <td>True</td>\n",
              "    </tr>\n",
              "  </tbody>\n",
              "</table>\n",
              "</div>"
            ],
            "text/plain": [
              "                A      B      C      D     F\n",
              "2021-05-07   True  False   True  False  True\n",
              "2021-05-08  False   True   True   True  True\n",
              "2021-05-09  False  False  False   True  True\n",
              "2021-05-10   True   True   True  False  True\n",
              "2021-05-11  False   True   True  False  True\n",
              "2021-05-12  False   True   True  False  True"
            ]
          },
          "metadata": {
            "tags": []
          },
          "execution_count": 16
        }
      ]
    },
    {
      "cell_type": "code",
      "metadata": {
        "colab": {
          "base_uri": "https://localhost:8080/",
          "height": 228
        },
        "id": "OPdT5Td8mcu3",
        "outputId": "78c739ea-8b83-4cda-b5ce-c80ad10fabad"
      },
      "source": [
        "df[df>0]"
      ],
      "execution_count": 17,
      "outputs": [
        {
          "output_type": "execute_result",
          "data": {
            "text/html": [
              "<div>\n",
              "<style scoped>\n",
              "    .dataframe tbody tr th:only-of-type {\n",
              "        vertical-align: middle;\n",
              "    }\n",
              "\n",
              "    .dataframe tbody tr th {\n",
              "        vertical-align: top;\n",
              "    }\n",
              "\n",
              "    .dataframe thead th {\n",
              "        text-align: right;\n",
              "    }\n",
              "</style>\n",
              "<table border=\"1\" class=\"dataframe\">\n",
              "  <thead>\n",
              "    <tr style=\"text-align: right;\">\n",
              "      <th></th>\n",
              "      <th>A</th>\n",
              "      <th>B</th>\n",
              "      <th>C</th>\n",
              "      <th>D</th>\n",
              "      <th>F</th>\n",
              "    </tr>\n",
              "  </thead>\n",
              "  <tbody>\n",
              "    <tr>\n",
              "      <th>2021-05-07</th>\n",
              "      <td>0.234056</td>\n",
              "      <td>NaN</td>\n",
              "      <td>0.125029</td>\n",
              "      <td>NaN</td>\n",
              "      <td>1</td>\n",
              "    </tr>\n",
              "    <tr>\n",
              "      <th>2021-05-08</th>\n",
              "      <td>NaN</td>\n",
              "      <td>0.933871</td>\n",
              "      <td>0.072002</td>\n",
              "      <td>1.010273</td>\n",
              "      <td>2</td>\n",
              "    </tr>\n",
              "    <tr>\n",
              "      <th>2021-05-09</th>\n",
              "      <td>NaN</td>\n",
              "      <td>NaN</td>\n",
              "      <td>NaN</td>\n",
              "      <td>1.158872</td>\n",
              "      <td>3</td>\n",
              "    </tr>\n",
              "    <tr>\n",
              "      <th>2021-05-10</th>\n",
              "      <td>0.546179</td>\n",
              "      <td>0.642193</td>\n",
              "      <td>0.572185</td>\n",
              "      <td>NaN</td>\n",
              "      <td>4</td>\n",
              "    </tr>\n",
              "    <tr>\n",
              "      <th>2021-05-11</th>\n",
              "      <td>NaN</td>\n",
              "      <td>0.056379</td>\n",
              "      <td>0.653987</td>\n",
              "      <td>NaN</td>\n",
              "      <td>5</td>\n",
              "    </tr>\n",
              "    <tr>\n",
              "      <th>2021-05-12</th>\n",
              "      <td>NaN</td>\n",
              "      <td>0.148888</td>\n",
              "      <td>0.544131</td>\n",
              "      <td>NaN</td>\n",
              "      <td>6</td>\n",
              "    </tr>\n",
              "  </tbody>\n",
              "</table>\n",
              "</div>"
            ],
            "text/plain": [
              "                   A         B         C         D  F\n",
              "2021-05-07  0.234056       NaN  0.125029       NaN  1\n",
              "2021-05-08       NaN  0.933871  0.072002  1.010273  2\n",
              "2021-05-09       NaN       NaN       NaN  1.158872  3\n",
              "2021-05-10  0.546179  0.642193  0.572185       NaN  4\n",
              "2021-05-11       NaN  0.056379  0.653987       NaN  5\n",
              "2021-05-12       NaN  0.148888  0.544131       NaN  6"
            ]
          },
          "metadata": {
            "tags": []
          },
          "execution_count": 17
        }
      ]
    },
    {
      "cell_type": "code",
      "metadata": {
        "id": "Y8ZLg5oNmib3"
      },
      "source": [
        "df2=df.copy()"
      ],
      "execution_count": 18,
      "outputs": []
    },
    {
      "cell_type": "code",
      "metadata": {
        "colab": {
          "base_uri": "https://localhost:8080/",
          "height": 228
        },
        "id": "toqAPTRUmyPX",
        "outputId": "c7a0bbb9-44c1-468f-d6a0-36ff87b2c3c3"
      },
      "source": [
        "df2[df2>0]"
      ],
      "execution_count": 19,
      "outputs": [
        {
          "output_type": "execute_result",
          "data": {
            "text/html": [
              "<div>\n",
              "<style scoped>\n",
              "    .dataframe tbody tr th:only-of-type {\n",
              "        vertical-align: middle;\n",
              "    }\n",
              "\n",
              "    .dataframe tbody tr th {\n",
              "        vertical-align: top;\n",
              "    }\n",
              "\n",
              "    .dataframe thead th {\n",
              "        text-align: right;\n",
              "    }\n",
              "</style>\n",
              "<table border=\"1\" class=\"dataframe\">\n",
              "  <thead>\n",
              "    <tr style=\"text-align: right;\">\n",
              "      <th></th>\n",
              "      <th>A</th>\n",
              "      <th>B</th>\n",
              "      <th>C</th>\n",
              "      <th>D</th>\n",
              "      <th>F</th>\n",
              "    </tr>\n",
              "  </thead>\n",
              "  <tbody>\n",
              "    <tr>\n",
              "      <th>2021-05-07</th>\n",
              "      <td>0.234056</td>\n",
              "      <td>NaN</td>\n",
              "      <td>0.125029</td>\n",
              "      <td>NaN</td>\n",
              "      <td>1</td>\n",
              "    </tr>\n",
              "    <tr>\n",
              "      <th>2021-05-08</th>\n",
              "      <td>NaN</td>\n",
              "      <td>0.933871</td>\n",
              "      <td>0.072002</td>\n",
              "      <td>1.010273</td>\n",
              "      <td>2</td>\n",
              "    </tr>\n",
              "    <tr>\n",
              "      <th>2021-05-09</th>\n",
              "      <td>NaN</td>\n",
              "      <td>NaN</td>\n",
              "      <td>NaN</td>\n",
              "      <td>1.158872</td>\n",
              "      <td>3</td>\n",
              "    </tr>\n",
              "    <tr>\n",
              "      <th>2021-05-10</th>\n",
              "      <td>0.546179</td>\n",
              "      <td>0.642193</td>\n",
              "      <td>0.572185</td>\n",
              "      <td>NaN</td>\n",
              "      <td>4</td>\n",
              "    </tr>\n",
              "    <tr>\n",
              "      <th>2021-05-11</th>\n",
              "      <td>NaN</td>\n",
              "      <td>0.056379</td>\n",
              "      <td>0.653987</td>\n",
              "      <td>NaN</td>\n",
              "      <td>5</td>\n",
              "    </tr>\n",
              "    <tr>\n",
              "      <th>2021-05-12</th>\n",
              "      <td>NaN</td>\n",
              "      <td>0.148888</td>\n",
              "      <td>0.544131</td>\n",
              "      <td>NaN</td>\n",
              "      <td>6</td>\n",
              "    </tr>\n",
              "  </tbody>\n",
              "</table>\n",
              "</div>"
            ],
            "text/plain": [
              "                   A         B         C         D  F\n",
              "2021-05-07  0.234056       NaN  0.125029       NaN  1\n",
              "2021-05-08       NaN  0.933871  0.072002  1.010273  2\n",
              "2021-05-09       NaN       NaN       NaN  1.158872  3\n",
              "2021-05-10  0.546179  0.642193  0.572185       NaN  4\n",
              "2021-05-11       NaN  0.056379  0.653987       NaN  5\n",
              "2021-05-12       NaN  0.148888  0.544131       NaN  6"
            ]
          },
          "metadata": {
            "tags": []
          },
          "execution_count": 19
        }
      ]
    },
    {
      "cell_type": "code",
      "metadata": {
        "id": "Hd6Nr_28m7e3"
      },
      "source": [
        "df2[df2>0] = -df"
      ],
      "execution_count": 20,
      "outputs": []
    },
    {
      "cell_type": "code",
      "metadata": {
        "colab": {
          "base_uri": "https://localhost:8080/",
          "height": 228
        },
        "id": "J4bO9x4ynBN2",
        "outputId": "f4fc5e81-268b-4919-ac50-c45795633309"
      },
      "source": [
        "df2"
      ],
      "execution_count": 22,
      "outputs": [
        {
          "output_type": "execute_result",
          "data": {
            "text/html": [
              "<div>\n",
              "<style scoped>\n",
              "    .dataframe tbody tr th:only-of-type {\n",
              "        vertical-align: middle;\n",
              "    }\n",
              "\n",
              "    .dataframe tbody tr th {\n",
              "        vertical-align: top;\n",
              "    }\n",
              "\n",
              "    .dataframe thead th {\n",
              "        text-align: right;\n",
              "    }\n",
              "</style>\n",
              "<table border=\"1\" class=\"dataframe\">\n",
              "  <thead>\n",
              "    <tr style=\"text-align: right;\">\n",
              "      <th></th>\n",
              "      <th>A</th>\n",
              "      <th>B</th>\n",
              "      <th>C</th>\n",
              "      <th>D</th>\n",
              "      <th>F</th>\n",
              "    </tr>\n",
              "  </thead>\n",
              "  <tbody>\n",
              "    <tr>\n",
              "      <th>2021-05-07</th>\n",
              "      <td>-0.234056</td>\n",
              "      <td>-0.568455</td>\n",
              "      <td>-0.125029</td>\n",
              "      <td>-0.695020</td>\n",
              "      <td>-1</td>\n",
              "    </tr>\n",
              "    <tr>\n",
              "      <th>2021-05-08</th>\n",
              "      <td>-1.132137</td>\n",
              "      <td>-0.933871</td>\n",
              "      <td>-0.072002</td>\n",
              "      <td>-1.010273</td>\n",
              "      <td>-2</td>\n",
              "    </tr>\n",
              "    <tr>\n",
              "      <th>2021-05-09</th>\n",
              "      <td>-0.361573</td>\n",
              "      <td>-0.949049</td>\n",
              "      <td>-0.418543</td>\n",
              "      <td>-1.158872</td>\n",
              "      <td>-3</td>\n",
              "    </tr>\n",
              "    <tr>\n",
              "      <th>2021-05-10</th>\n",
              "      <td>-0.546179</td>\n",
              "      <td>-0.642193</td>\n",
              "      <td>-0.572185</td>\n",
              "      <td>-0.178186</td>\n",
              "      <td>-4</td>\n",
              "    </tr>\n",
              "    <tr>\n",
              "      <th>2021-05-11</th>\n",
              "      <td>-1.716781</td>\n",
              "      <td>-0.056379</td>\n",
              "      <td>-0.653987</td>\n",
              "      <td>-0.279796</td>\n",
              "      <td>-5</td>\n",
              "    </tr>\n",
              "    <tr>\n",
              "      <th>2021-05-12</th>\n",
              "      <td>-0.365545</td>\n",
              "      <td>-0.148888</td>\n",
              "      <td>-0.544131</td>\n",
              "      <td>-0.379901</td>\n",
              "      <td>-6</td>\n",
              "    </tr>\n",
              "  </tbody>\n",
              "</table>\n",
              "</div>"
            ],
            "text/plain": [
              "                   A         B         C         D  F\n",
              "2021-05-07 -0.234056 -0.568455 -0.125029 -0.695020 -1\n",
              "2021-05-08 -1.132137 -0.933871 -0.072002 -1.010273 -2\n",
              "2021-05-09 -0.361573 -0.949049 -0.418543 -1.158872 -3\n",
              "2021-05-10 -0.546179 -0.642193 -0.572185 -0.178186 -4\n",
              "2021-05-11 -1.716781 -0.056379 -0.653987 -0.279796 -5\n",
              "2021-05-12 -0.365545 -0.148888 -0.544131 -0.379901 -6"
            ]
          },
          "metadata": {
            "tags": []
          },
          "execution_count": 22
        }
      ]
    },
    {
      "cell_type": "code",
      "metadata": {
        "colab": {
          "base_uri": "https://localhost:8080/",
          "height": 228
        },
        "id": "qeEu9l7HnBlW",
        "outputId": "834b3b77-a108-432f-fc8c-f7cfbf1675a6"
      },
      "source": [
        "df"
      ],
      "execution_count": 23,
      "outputs": [
        {
          "output_type": "execute_result",
          "data": {
            "text/html": [
              "<div>\n",
              "<style scoped>\n",
              "    .dataframe tbody tr th:only-of-type {\n",
              "        vertical-align: middle;\n",
              "    }\n",
              "\n",
              "    .dataframe tbody tr th {\n",
              "        vertical-align: top;\n",
              "    }\n",
              "\n",
              "    .dataframe thead th {\n",
              "        text-align: right;\n",
              "    }\n",
              "</style>\n",
              "<table border=\"1\" class=\"dataframe\">\n",
              "  <thead>\n",
              "    <tr style=\"text-align: right;\">\n",
              "      <th></th>\n",
              "      <th>A</th>\n",
              "      <th>B</th>\n",
              "      <th>C</th>\n",
              "      <th>D</th>\n",
              "      <th>F</th>\n",
              "    </tr>\n",
              "  </thead>\n",
              "  <tbody>\n",
              "    <tr>\n",
              "      <th>2021-05-07</th>\n",
              "      <td>0.234056</td>\n",
              "      <td>-0.568455</td>\n",
              "      <td>0.125029</td>\n",
              "      <td>-0.695020</td>\n",
              "      <td>1</td>\n",
              "    </tr>\n",
              "    <tr>\n",
              "      <th>2021-05-08</th>\n",
              "      <td>-1.132137</td>\n",
              "      <td>0.933871</td>\n",
              "      <td>0.072002</td>\n",
              "      <td>1.010273</td>\n",
              "      <td>2</td>\n",
              "    </tr>\n",
              "    <tr>\n",
              "      <th>2021-05-09</th>\n",
              "      <td>-0.361573</td>\n",
              "      <td>-0.949049</td>\n",
              "      <td>-0.418543</td>\n",
              "      <td>1.158872</td>\n",
              "      <td>3</td>\n",
              "    </tr>\n",
              "    <tr>\n",
              "      <th>2021-05-10</th>\n",
              "      <td>0.546179</td>\n",
              "      <td>0.642193</td>\n",
              "      <td>0.572185</td>\n",
              "      <td>-0.178186</td>\n",
              "      <td>4</td>\n",
              "    </tr>\n",
              "    <tr>\n",
              "      <th>2021-05-11</th>\n",
              "      <td>-1.716781</td>\n",
              "      <td>0.056379</td>\n",
              "      <td>0.653987</td>\n",
              "      <td>-0.279796</td>\n",
              "      <td>5</td>\n",
              "    </tr>\n",
              "    <tr>\n",
              "      <th>2021-05-12</th>\n",
              "      <td>-0.365545</td>\n",
              "      <td>0.148888</td>\n",
              "      <td>0.544131</td>\n",
              "      <td>-0.379901</td>\n",
              "      <td>6</td>\n",
              "    </tr>\n",
              "  </tbody>\n",
              "</table>\n",
              "</div>"
            ],
            "text/plain": [
              "                   A         B         C         D  F\n",
              "2021-05-07  0.234056 -0.568455  0.125029 -0.695020  1\n",
              "2021-05-08 -1.132137  0.933871  0.072002  1.010273  2\n",
              "2021-05-09 -0.361573 -0.949049 -0.418543  1.158872  3\n",
              "2021-05-10  0.546179  0.642193  0.572185 -0.178186  4\n",
              "2021-05-11 -1.716781  0.056379  0.653987 -0.279796  5\n",
              "2021-05-12 -0.365545  0.148888  0.544131 -0.379901  6"
            ]
          },
          "metadata": {
            "tags": []
          },
          "execution_count": 23
        }
      ]
    },
    {
      "cell_type": "code",
      "metadata": {
        "colab": {
          "base_uri": "https://localhost:8080/"
        },
        "id": "_m7yfjA7nlo2",
        "outputId": "6ebae6c1-345a-4908-fddb-370cb1f4a40c"
      },
      "source": [
        "df.mean()"
      ],
      "execution_count": 25,
      "outputs": [
        {
          "output_type": "execute_result",
          "data": {
            "text/plain": [
              "A   -0.465967\n",
              "B    0.043971\n",
              "C    0.258132\n",
              "D    0.106040\n",
              "F    3.500000\n",
              "dtype: float64"
            ]
          },
          "metadata": {
            "tags": []
          },
          "execution_count": 25
        }
      ]
    },
    {
      "cell_type": "code",
      "metadata": {
        "colab": {
          "base_uri": "https://localhost:8080/"
        },
        "id": "K9ei75uTnds-",
        "outputId": "7df6b8cc-ce0c-406e-9447-9ad9c6addf5d"
      },
      "source": [
        "df.mean(1)"
      ],
      "execution_count": 26,
      "outputs": [
        {
          "output_type": "execute_result",
          "data": {
            "text/plain": [
              "2021-05-07    0.019122\n",
              "2021-05-08    0.576802\n",
              "2021-05-09    0.485941\n",
              "2021-05-10    1.116474\n",
              "2021-05-11    0.742758\n",
              "2021-05-12    1.189515\n",
              "Freq: D, dtype: float64"
            ]
          },
          "metadata": {
            "tags": []
          },
          "execution_count": 26
        }
      ]
    },
    {
      "cell_type": "code",
      "metadata": {
        "colab": {
          "base_uri": "https://localhost:8080/"
        },
        "id": "em-i8GSeoOD2",
        "outputId": "eeb1dca9-3979-40ff-f714-0f15a0e4e6f8"
      },
      "source": [
        "df.mean(0)"
      ],
      "execution_count": 27,
      "outputs": [
        {
          "output_type": "execute_result",
          "data": {
            "text/plain": [
              "A   -0.465967\n",
              "B    0.043971\n",
              "C    0.258132\n",
              "D    0.106040\n",
              "F    3.500000\n",
              "dtype: float64"
            ]
          },
          "metadata": {
            "tags": []
          },
          "execution_count": 27
        }
      ]
    },
    {
      "cell_type": "code",
      "metadata": {
        "colab": {
          "base_uri": "https://localhost:8080/"
        },
        "id": "4jvcpkhBoux2",
        "outputId": "438e8c56-558d-4d6e-b8e7-9349359fd197"
      },
      "source": [
        "print(df.apply(np.cumsum));print() # 데이터에 함수를 적용\n",
        "# np.cumsum : 배열에서 주어진 축에 따라 누적되는 원소들의 누적 합을 계산하는 함수\n",
        "\n",
        "print(df.apply(lambda x: x.max() - x.min())) # 행에 대해 함수 적용"
      ],
      "execution_count": 29,
      "outputs": [
        {
          "output_type": "stream",
          "text": [
            "                   A         B         C         D   F\n",
            "2021-05-07  0.234056 -0.568455  0.125029 -0.695020   1\n",
            "2021-05-08 -0.898080  0.365416  0.197031  0.315253   3\n",
            "2021-05-09 -1.259653 -0.583633 -0.221512  1.474125   6\n",
            "2021-05-10 -0.713474  0.058559  0.350674  1.295939  10\n",
            "2021-05-11 -2.430255  0.114938  1.004661  1.016143  15\n",
            "2021-05-12 -2.795800  0.263827  1.548793  0.636242  21\n",
            "\n",
            "A    2.262959\n",
            "B    1.882921\n",
            "C    1.072530\n",
            "D    1.853892\n",
            "F    5.000000\n",
            "dtype: float64\n"
          ],
          "name": "stdout"
        }
      ]
    },
    {
      "cell_type": "code",
      "metadata": {
        "colab": {
          "base_uri": "https://localhost:8080/",
          "height": 228
        },
        "id": "DYDkHJU6pF5I",
        "outputId": "134fd946-ce5e-46d4-ebf1-dd8cdee99487"
      },
      "source": [
        "df.apply(np.cumsum)"
      ],
      "execution_count": 30,
      "outputs": [
        {
          "output_type": "execute_result",
          "data": {
            "text/html": [
              "<div>\n",
              "<style scoped>\n",
              "    .dataframe tbody tr th:only-of-type {\n",
              "        vertical-align: middle;\n",
              "    }\n",
              "\n",
              "    .dataframe tbody tr th {\n",
              "        vertical-align: top;\n",
              "    }\n",
              "\n",
              "    .dataframe thead th {\n",
              "        text-align: right;\n",
              "    }\n",
              "</style>\n",
              "<table border=\"1\" class=\"dataframe\">\n",
              "  <thead>\n",
              "    <tr style=\"text-align: right;\">\n",
              "      <th></th>\n",
              "      <th>A</th>\n",
              "      <th>B</th>\n",
              "      <th>C</th>\n",
              "      <th>D</th>\n",
              "      <th>F</th>\n",
              "    </tr>\n",
              "  </thead>\n",
              "  <tbody>\n",
              "    <tr>\n",
              "      <th>2021-05-07</th>\n",
              "      <td>0.234056</td>\n",
              "      <td>-0.568455</td>\n",
              "      <td>0.125029</td>\n",
              "      <td>-0.695020</td>\n",
              "      <td>1</td>\n",
              "    </tr>\n",
              "    <tr>\n",
              "      <th>2021-05-08</th>\n",
              "      <td>-0.898080</td>\n",
              "      <td>0.365416</td>\n",
              "      <td>0.197031</td>\n",
              "      <td>0.315253</td>\n",
              "      <td>3</td>\n",
              "    </tr>\n",
              "    <tr>\n",
              "      <th>2021-05-09</th>\n",
              "      <td>-1.259653</td>\n",
              "      <td>-0.583633</td>\n",
              "      <td>-0.221512</td>\n",
              "      <td>1.474125</td>\n",
              "      <td>6</td>\n",
              "    </tr>\n",
              "    <tr>\n",
              "      <th>2021-05-10</th>\n",
              "      <td>-0.713474</td>\n",
              "      <td>0.058559</td>\n",
              "      <td>0.350674</td>\n",
              "      <td>1.295939</td>\n",
              "      <td>10</td>\n",
              "    </tr>\n",
              "    <tr>\n",
              "      <th>2021-05-11</th>\n",
              "      <td>-2.430255</td>\n",
              "      <td>0.114938</td>\n",
              "      <td>1.004661</td>\n",
              "      <td>1.016143</td>\n",
              "      <td>15</td>\n",
              "    </tr>\n",
              "    <tr>\n",
              "      <th>2021-05-12</th>\n",
              "      <td>-2.795800</td>\n",
              "      <td>0.263827</td>\n",
              "      <td>1.548793</td>\n",
              "      <td>0.636242</td>\n",
              "      <td>21</td>\n",
              "    </tr>\n",
              "  </tbody>\n",
              "</table>\n",
              "</div>"
            ],
            "text/plain": [
              "                   A         B         C         D   F\n",
              "2021-05-07  0.234056 -0.568455  0.125029 -0.695020   1\n",
              "2021-05-08 -0.898080  0.365416  0.197031  0.315253   3\n",
              "2021-05-09 -1.259653 -0.583633 -0.221512  1.474125   6\n",
              "2021-05-10 -0.713474  0.058559  0.350674  1.295939  10\n",
              "2021-05-11 -2.430255  0.114938  1.004661  1.016143  15\n",
              "2021-05-12 -2.795800  0.263827  1.548793  0.636242  21"
            ]
          },
          "metadata": {
            "tags": []
          },
          "execution_count": 30
        }
      ]
    },
    {
      "cell_type": "code",
      "metadata": {
        "colab": {
          "base_uri": "https://localhost:8080/",
          "height": 228
        },
        "id": "c8VoxIFApT5G",
        "outputId": "d6064878-785e-42c9-a9b6-2e6c137f7106"
      },
      "source": [
        "df"
      ],
      "execution_count": 31,
      "outputs": [
        {
          "output_type": "execute_result",
          "data": {
            "text/html": [
              "<div>\n",
              "<style scoped>\n",
              "    .dataframe tbody tr th:only-of-type {\n",
              "        vertical-align: middle;\n",
              "    }\n",
              "\n",
              "    .dataframe tbody tr th {\n",
              "        vertical-align: top;\n",
              "    }\n",
              "\n",
              "    .dataframe thead th {\n",
              "        text-align: right;\n",
              "    }\n",
              "</style>\n",
              "<table border=\"1\" class=\"dataframe\">\n",
              "  <thead>\n",
              "    <tr style=\"text-align: right;\">\n",
              "      <th></th>\n",
              "      <th>A</th>\n",
              "      <th>B</th>\n",
              "      <th>C</th>\n",
              "      <th>D</th>\n",
              "      <th>F</th>\n",
              "    </tr>\n",
              "  </thead>\n",
              "  <tbody>\n",
              "    <tr>\n",
              "      <th>2021-05-07</th>\n",
              "      <td>0.234056</td>\n",
              "      <td>-0.568455</td>\n",
              "      <td>0.125029</td>\n",
              "      <td>-0.695020</td>\n",
              "      <td>1</td>\n",
              "    </tr>\n",
              "    <tr>\n",
              "      <th>2021-05-08</th>\n",
              "      <td>-1.132137</td>\n",
              "      <td>0.933871</td>\n",
              "      <td>0.072002</td>\n",
              "      <td>1.010273</td>\n",
              "      <td>2</td>\n",
              "    </tr>\n",
              "    <tr>\n",
              "      <th>2021-05-09</th>\n",
              "      <td>-0.361573</td>\n",
              "      <td>-0.949049</td>\n",
              "      <td>-0.418543</td>\n",
              "      <td>1.158872</td>\n",
              "      <td>3</td>\n",
              "    </tr>\n",
              "    <tr>\n",
              "      <th>2021-05-10</th>\n",
              "      <td>0.546179</td>\n",
              "      <td>0.642193</td>\n",
              "      <td>0.572185</td>\n",
              "      <td>-0.178186</td>\n",
              "      <td>4</td>\n",
              "    </tr>\n",
              "    <tr>\n",
              "      <th>2021-05-11</th>\n",
              "      <td>-1.716781</td>\n",
              "      <td>0.056379</td>\n",
              "      <td>0.653987</td>\n",
              "      <td>-0.279796</td>\n",
              "      <td>5</td>\n",
              "    </tr>\n",
              "    <tr>\n",
              "      <th>2021-05-12</th>\n",
              "      <td>-0.365545</td>\n",
              "      <td>0.148888</td>\n",
              "      <td>0.544131</td>\n",
              "      <td>-0.379901</td>\n",
              "      <td>6</td>\n",
              "    </tr>\n",
              "  </tbody>\n",
              "</table>\n",
              "</div>"
            ],
            "text/plain": [
              "                   A         B         C         D  F\n",
              "2021-05-07  0.234056 -0.568455  0.125029 -0.695020  1\n",
              "2021-05-08 -1.132137  0.933871  0.072002  1.010273  2\n",
              "2021-05-09 -0.361573 -0.949049 -0.418543  1.158872  3\n",
              "2021-05-10  0.546179  0.642193  0.572185 -0.178186  4\n",
              "2021-05-11 -1.716781  0.056379  0.653987 -0.279796  5\n",
              "2021-05-12 -0.365545  0.148888  0.544131 -0.379901  6"
            ]
          },
          "metadata": {
            "tags": []
          },
          "execution_count": 31
        }
      ]
    },
    {
      "cell_type": "code",
      "metadata": {
        "colab": {
          "base_uri": "https://localhost:8080/",
          "height": 228
        },
        "id": "PCtfp7uCpU3G",
        "outputId": "4d159d6e-4343-4428-e771-b9338a88d74a"
      },
      "source": [
        "df.apply(np.cumsum,axis=1)"
      ],
      "execution_count": 32,
      "outputs": [
        {
          "output_type": "execute_result",
          "data": {
            "text/html": [
              "<div>\n",
              "<style scoped>\n",
              "    .dataframe tbody tr th:only-of-type {\n",
              "        vertical-align: middle;\n",
              "    }\n",
              "\n",
              "    .dataframe tbody tr th {\n",
              "        vertical-align: top;\n",
              "    }\n",
              "\n",
              "    .dataframe thead th {\n",
              "        text-align: right;\n",
              "    }\n",
              "</style>\n",
              "<table border=\"1\" class=\"dataframe\">\n",
              "  <thead>\n",
              "    <tr style=\"text-align: right;\">\n",
              "      <th></th>\n",
              "      <th>A</th>\n",
              "      <th>B</th>\n",
              "      <th>C</th>\n",
              "      <th>D</th>\n",
              "      <th>F</th>\n",
              "    </tr>\n",
              "  </thead>\n",
              "  <tbody>\n",
              "    <tr>\n",
              "      <th>2021-05-07</th>\n",
              "      <td>0.234056</td>\n",
              "      <td>-0.334399</td>\n",
              "      <td>-0.209370</td>\n",
              "      <td>-0.904390</td>\n",
              "      <td>0.095610</td>\n",
              "    </tr>\n",
              "    <tr>\n",
              "      <th>2021-05-08</th>\n",
              "      <td>-1.132137</td>\n",
              "      <td>-0.198265</td>\n",
              "      <td>-0.126263</td>\n",
              "      <td>0.884011</td>\n",
              "      <td>2.884011</td>\n",
              "    </tr>\n",
              "    <tr>\n",
              "      <th>2021-05-09</th>\n",
              "      <td>-0.361573</td>\n",
              "      <td>-1.310622</td>\n",
              "      <td>-1.729165</td>\n",
              "      <td>-0.570293</td>\n",
              "      <td>2.429707</td>\n",
              "    </tr>\n",
              "    <tr>\n",
              "      <th>2021-05-10</th>\n",
              "      <td>0.546179</td>\n",
              "      <td>1.188372</td>\n",
              "      <td>1.760557</td>\n",
              "      <td>1.582371</td>\n",
              "      <td>5.582371</td>\n",
              "    </tr>\n",
              "    <tr>\n",
              "      <th>2021-05-11</th>\n",
              "      <td>-1.716781</td>\n",
              "      <td>-1.660402</td>\n",
              "      <td>-1.006414</td>\n",
              "      <td>-1.286210</td>\n",
              "      <td>3.713790</td>\n",
              "    </tr>\n",
              "    <tr>\n",
              "      <th>2021-05-12</th>\n",
              "      <td>-0.365545</td>\n",
              "      <td>-0.216656</td>\n",
              "      <td>0.327475</td>\n",
              "      <td>-0.052426</td>\n",
              "      <td>5.947574</td>\n",
              "    </tr>\n",
              "  </tbody>\n",
              "</table>\n",
              "</div>"
            ],
            "text/plain": [
              "                   A         B         C         D         F\n",
              "2021-05-07  0.234056 -0.334399 -0.209370 -0.904390  0.095610\n",
              "2021-05-08 -1.132137 -0.198265 -0.126263  0.884011  2.884011\n",
              "2021-05-09 -0.361573 -1.310622 -1.729165 -0.570293  2.429707\n",
              "2021-05-10  0.546179  1.188372  1.760557  1.582371  5.582371\n",
              "2021-05-11 -1.716781 -1.660402 -1.006414 -1.286210  3.713790\n",
              "2021-05-12 -0.365545 -0.216656  0.327475 -0.052426  5.947574"
            ]
          },
          "metadata": {
            "tags": []
          },
          "execution_count": 32
        }
      ]
    },
    {
      "cell_type": "code",
      "metadata": {
        "colab": {
          "base_uri": "https://localhost:8080/"
        },
        "id": "ay0zb_J-p4hm",
        "outputId": "2f490d48-3534-4a6c-955b-1b022eaadb48"
      },
      "source": [
        "print(df.apply(lambda x: x.max() - x.min())) # 행에 대해 함수 적용"
      ],
      "execution_count": 33,
      "outputs": [
        {
          "output_type": "stream",
          "text": [
            "A    2.262959\n",
            "B    1.882921\n",
            "C    1.072530\n",
            "D    1.853892\n",
            "F    5.000000\n",
            "dtype: float64\n"
          ],
          "name": "stdout"
        }
      ]
    },
    {
      "cell_type": "code",
      "metadata": {
        "colab": {
          "base_uri": "https://localhost:8080/"
        },
        "id": "CXsilMP0qI5V",
        "outputId": "29116bc3-7894-4faf-c148-42851f9ea46b"
      },
      "source": [
        "df.apply(lambda x: x.max() - x.min(), axis = 1)"
      ],
      "execution_count": 38,
      "outputs": [
        {
          "output_type": "execute_result",
          "data": {
            "text/plain": [
              "2021-05-07    1.695020\n",
              "2021-05-08    3.132137\n",
              "2021-05-09    3.949049\n",
              "2021-05-10    4.178186\n",
              "2021-05-11    6.716781\n",
              "2021-05-12    6.379901\n",
              "Freq: D, dtype: float64"
            ]
          },
          "metadata": {
            "tags": []
          },
          "execution_count": 38
        }
      ]
    },
    {
      "cell_type": "code",
      "metadata": {
        "colab": {
          "base_uri": "https://localhost:8080/"
        },
        "id": "6j1q-LATqVNl",
        "outputId": "1caa911e-f746-46fa-f810-fba8f4ad0a0d"
      },
      "source": [
        "df.A.max(), df.A.min()"
      ],
      "execution_count": 39,
      "outputs": [
        {
          "output_type": "execute_result",
          "data": {
            "text/plain": [
              "(0.5461788206602962, -1.7167805565539682)"
            ]
          },
          "metadata": {
            "tags": []
          },
          "execution_count": 39
        }
      ]
    },
    {
      "cell_type": "code",
      "metadata": {
        "colab": {
          "base_uri": "https://localhost:8080/"
        },
        "id": "9tgSW04BtacF",
        "outputId": "f18d92be-e7f7-4425-b5a7-dc298142c951"
      },
      "source": [
        "s = pd.Series(np.random.randint(1, 7, size = 6000000))\n",
        "s.value_counts()"
      ],
      "execution_count": 49,
      "outputs": [
        {
          "output_type": "execute_result",
          "data": {
            "text/plain": [
              "5    1002188\n",
              "1    1000176\n",
              "4    1000148\n",
              "6     999883\n",
              "2     998940\n",
              "3     998665\n",
              "dtype: int64"
            ]
          },
          "metadata": {
            "tags": []
          },
          "execution_count": 49
        }
      ]
    },
    {
      "cell_type": "code",
      "metadata": {
        "id": "Ibi06ynEtz9U"
      },
      "source": [
        " # pieces = [df[:3], df[3:7], df[7:]] # 조각내기\n",
        " pieces = [df[:3],df[3:7],df[7:]]"
      ],
      "execution_count": 51,
      "outputs": []
    },
    {
      "cell_type": "code",
      "metadata": {
        "colab": {
          "base_uri": "https://localhost:8080/",
          "height": 228
        },
        "id": "Mk7iQocJwE6b",
        "outputId": "0e23bfa9-1c30-499a-f21a-78495da05a72"
      },
      "source": [
        "pd.concat(pieces)"
      ],
      "execution_count": 52,
      "outputs": [
        {
          "output_type": "execute_result",
          "data": {
            "text/html": [
              "<div>\n",
              "<style scoped>\n",
              "    .dataframe tbody tr th:only-of-type {\n",
              "        vertical-align: middle;\n",
              "    }\n",
              "\n",
              "    .dataframe tbody tr th {\n",
              "        vertical-align: top;\n",
              "    }\n",
              "\n",
              "    .dataframe thead th {\n",
              "        text-align: right;\n",
              "    }\n",
              "</style>\n",
              "<table border=\"1\" class=\"dataframe\">\n",
              "  <thead>\n",
              "    <tr style=\"text-align: right;\">\n",
              "      <th></th>\n",
              "      <th>A</th>\n",
              "      <th>B</th>\n",
              "      <th>C</th>\n",
              "      <th>D</th>\n",
              "      <th>F</th>\n",
              "    </tr>\n",
              "  </thead>\n",
              "  <tbody>\n",
              "    <tr>\n",
              "      <th>2021-05-07</th>\n",
              "      <td>0.234056</td>\n",
              "      <td>-0.568455</td>\n",
              "      <td>0.125029</td>\n",
              "      <td>-0.695020</td>\n",
              "      <td>1</td>\n",
              "    </tr>\n",
              "    <tr>\n",
              "      <th>2021-05-08</th>\n",
              "      <td>-1.132137</td>\n",
              "      <td>0.933871</td>\n",
              "      <td>0.072002</td>\n",
              "      <td>1.010273</td>\n",
              "      <td>2</td>\n",
              "    </tr>\n",
              "    <tr>\n",
              "      <th>2021-05-09</th>\n",
              "      <td>-0.361573</td>\n",
              "      <td>-0.949049</td>\n",
              "      <td>-0.418543</td>\n",
              "      <td>1.158872</td>\n",
              "      <td>3</td>\n",
              "    </tr>\n",
              "    <tr>\n",
              "      <th>2021-05-10</th>\n",
              "      <td>0.546179</td>\n",
              "      <td>0.642193</td>\n",
              "      <td>0.572185</td>\n",
              "      <td>-0.178186</td>\n",
              "      <td>4</td>\n",
              "    </tr>\n",
              "    <tr>\n",
              "      <th>2021-05-11</th>\n",
              "      <td>-1.716781</td>\n",
              "      <td>0.056379</td>\n",
              "      <td>0.653987</td>\n",
              "      <td>-0.279796</td>\n",
              "      <td>5</td>\n",
              "    </tr>\n",
              "    <tr>\n",
              "      <th>2021-05-12</th>\n",
              "      <td>-0.365545</td>\n",
              "      <td>0.148888</td>\n",
              "      <td>0.544131</td>\n",
              "      <td>-0.379901</td>\n",
              "      <td>6</td>\n",
              "    </tr>\n",
              "  </tbody>\n",
              "</table>\n",
              "</div>"
            ],
            "text/plain": [
              "                   A         B         C         D  F\n",
              "2021-05-07  0.234056 -0.568455  0.125029 -0.695020  1\n",
              "2021-05-08 -1.132137  0.933871  0.072002  1.010273  2\n",
              "2021-05-09 -0.361573 -0.949049 -0.418543  1.158872  3\n",
              "2021-05-10  0.546179  0.642193  0.572185 -0.178186  4\n",
              "2021-05-11 -1.716781  0.056379  0.653987 -0.279796  5\n",
              "2021-05-12 -0.365545  0.148888  0.544131 -0.379901  6"
            ]
          },
          "metadata": {
            "tags": []
          },
          "execution_count": 52
        }
      ]
    },
    {
      "cell_type": "code",
      "metadata": {
        "id": "oV0DocwnwFbj"
      },
      "source": [
        "left = pd.DataFrame(\n",
        "    {\n",
        "        'key':['foo', 'foo'],\n",
        "       'lval': [1, 2]\n",
        "     }\n",
        ")\n",
        "right = pd.DataFrame({'key':['foo', 'foo'], 'rval': [4, 5]})"
      ],
      "execution_count": 53,
      "outputs": []
    },
    {
      "cell_type": "code",
      "metadata": {
        "colab": {
          "base_uri": "https://localhost:8080/",
          "height": 108
        },
        "id": "9AWx1z2dwiqD",
        "outputId": "f4270619-ae80-43fb-928c-d1cedb575406"
      },
      "source": [
        "left"
      ],
      "execution_count": 56,
      "outputs": [
        {
          "output_type": "execute_result",
          "data": {
            "text/html": [
              "<div>\n",
              "<style scoped>\n",
              "    .dataframe tbody tr th:only-of-type {\n",
              "        vertical-align: middle;\n",
              "    }\n",
              "\n",
              "    .dataframe tbody tr th {\n",
              "        vertical-align: top;\n",
              "    }\n",
              "\n",
              "    .dataframe thead th {\n",
              "        text-align: right;\n",
              "    }\n",
              "</style>\n",
              "<table border=\"1\" class=\"dataframe\">\n",
              "  <thead>\n",
              "    <tr style=\"text-align: right;\">\n",
              "      <th></th>\n",
              "      <th>key</th>\n",
              "      <th>lval</th>\n",
              "    </tr>\n",
              "  </thead>\n",
              "  <tbody>\n",
              "    <tr>\n",
              "      <th>0</th>\n",
              "      <td>foo</td>\n",
              "      <td>1</td>\n",
              "    </tr>\n",
              "    <tr>\n",
              "      <th>1</th>\n",
              "      <td>foo</td>\n",
              "      <td>2</td>\n",
              "    </tr>\n",
              "  </tbody>\n",
              "</table>\n",
              "</div>"
            ],
            "text/plain": [
              "   key  lval\n",
              "0  foo     1\n",
              "1  foo     2"
            ]
          },
          "metadata": {
            "tags": []
          },
          "execution_count": 56
        }
      ]
    },
    {
      "cell_type": "code",
      "metadata": {
        "colab": {
          "base_uri": "https://localhost:8080/",
          "height": 108
        },
        "id": "Wv3SDZOFwrnU",
        "outputId": "6d6efa20-02d5-47d7-cf6b-b9571cc030e6"
      },
      "source": [
        "right"
      ],
      "execution_count": 57,
      "outputs": [
        {
          "output_type": "execute_result",
          "data": {
            "text/html": [
              "<div>\n",
              "<style scoped>\n",
              "    .dataframe tbody tr th:only-of-type {\n",
              "        vertical-align: middle;\n",
              "    }\n",
              "\n",
              "    .dataframe tbody tr th {\n",
              "        vertical-align: top;\n",
              "    }\n",
              "\n",
              "    .dataframe thead th {\n",
              "        text-align: right;\n",
              "    }\n",
              "</style>\n",
              "<table border=\"1\" class=\"dataframe\">\n",
              "  <thead>\n",
              "    <tr style=\"text-align: right;\">\n",
              "      <th></th>\n",
              "      <th>key</th>\n",
              "      <th>rval</th>\n",
              "    </tr>\n",
              "  </thead>\n",
              "  <tbody>\n",
              "    <tr>\n",
              "      <th>0</th>\n",
              "      <td>foo</td>\n",
              "      <td>4</td>\n",
              "    </tr>\n",
              "    <tr>\n",
              "      <th>1</th>\n",
              "      <td>foo</td>\n",
              "      <td>5</td>\n",
              "    </tr>\n",
              "  </tbody>\n",
              "</table>\n",
              "</div>"
            ],
            "text/plain": [
              "   key  rval\n",
              "0  foo     4\n",
              "1  foo     5"
            ]
          },
          "metadata": {
            "tags": []
          },
          "execution_count": 57
        }
      ]
    },
    {
      "cell_type": "code",
      "metadata": {
        "id": "N5pXJY9twz8T"
      },
      "source": [
        " pd_merge = pd.merge(left, right, on = 'key')"
      ],
      "execution_count": 58,
      "outputs": []
    },
    {
      "cell_type": "code",
      "metadata": {
        "colab": {
          "base_uri": "https://localhost:8080/",
          "height": 168
        },
        "id": "TifLcry6xA9z",
        "outputId": "494952e6-7b80-42a3-a177-5ce81c53d380"
      },
      "source": [
        "pd_merge"
      ],
      "execution_count": 59,
      "outputs": [
        {
          "output_type": "execute_result",
          "data": {
            "text/html": [
              "<div>\n",
              "<style scoped>\n",
              "    .dataframe tbody tr th:only-of-type {\n",
              "        vertical-align: middle;\n",
              "    }\n",
              "\n",
              "    .dataframe tbody tr th {\n",
              "        vertical-align: top;\n",
              "    }\n",
              "\n",
              "    .dataframe thead th {\n",
              "        text-align: right;\n",
              "    }\n",
              "</style>\n",
              "<table border=\"1\" class=\"dataframe\">\n",
              "  <thead>\n",
              "    <tr style=\"text-align: right;\">\n",
              "      <th></th>\n",
              "      <th>key</th>\n",
              "      <th>lval</th>\n",
              "      <th>rval</th>\n",
              "    </tr>\n",
              "  </thead>\n",
              "  <tbody>\n",
              "    <tr>\n",
              "      <th>0</th>\n",
              "      <td>foo</td>\n",
              "      <td>1</td>\n",
              "      <td>4</td>\n",
              "    </tr>\n",
              "    <tr>\n",
              "      <th>1</th>\n",
              "      <td>foo</td>\n",
              "      <td>1</td>\n",
              "      <td>5</td>\n",
              "    </tr>\n",
              "    <tr>\n",
              "      <th>2</th>\n",
              "      <td>foo</td>\n",
              "      <td>2</td>\n",
              "      <td>4</td>\n",
              "    </tr>\n",
              "    <tr>\n",
              "      <th>3</th>\n",
              "      <td>foo</td>\n",
              "      <td>2</td>\n",
              "      <td>5</td>\n",
              "    </tr>\n",
              "  </tbody>\n",
              "</table>\n",
              "</div>"
            ],
            "text/plain": [
              "   key  lval  rval\n",
              "0  foo     1     4\n",
              "1  foo     1     5\n",
              "2  foo     2     4\n",
              "3  foo     2     5"
            ]
          },
          "metadata": {
            "tags": []
          },
          "execution_count": 59
        }
      ]
    },
    {
      "cell_type": "code",
      "metadata": {
        "colab": {
          "base_uri": "https://localhost:8080/"
        },
        "id": "PLdJ8UQ-xFND",
        "outputId": "c3697256-f3f5-4817-9b4d-f91a20625adb"
      },
      "source": [
        "df = pd.DataFrame(np.random.randn(8, 4), columns=['A', 'B', 'C', 'D'])\n",
        "\n",
        "print(df);print()\n",
        "\n",
        "s = df.iloc[3]\n",
        "print(s);print()\n",
        "\n",
        "print(df.append(s, ignore_index=True))"
      ],
      "execution_count": 60,
      "outputs": [
        {
          "output_type": "stream",
          "text": [
            "          A         B         C         D\n",
            "0 -0.800198  1.375632  0.509174 -0.400405\n",
            "1 -0.258284  0.531032  0.149187 -0.872952\n",
            "2 -0.512024  0.647742 -1.161073 -0.156082\n",
            "3 -0.163957 -0.492315  0.895815 -1.154381\n",
            "4 -1.519964 -0.489690  0.404460 -0.992461\n",
            "5 -1.171791  3.352686 -0.236246 -0.296042\n",
            "6 -0.370016 -1.392320  0.257797  0.977373\n",
            "7  0.722095  0.465969  1.442468 -1.380194\n",
            "\n",
            "A   -0.163957\n",
            "B   -0.492315\n",
            "C    0.895815\n",
            "D   -1.154381\n",
            "Name: 3, dtype: float64\n",
            "\n",
            "          A         B         C         D\n",
            "0 -0.800198  1.375632  0.509174 -0.400405\n",
            "1 -0.258284  0.531032  0.149187 -0.872952\n",
            "2 -0.512024  0.647742 -1.161073 -0.156082\n",
            "3 -0.163957 -0.492315  0.895815 -1.154381\n",
            "4 -1.519964 -0.489690  0.404460 -0.992461\n",
            "5 -1.171791  3.352686 -0.236246 -0.296042\n",
            "6 -0.370016 -1.392320  0.257797  0.977373\n",
            "7  0.722095  0.465969  1.442468 -1.380194\n",
            "8 -0.163957 -0.492315  0.895815 -1.154381\n"
          ],
          "name": "stdout"
        }
      ]
    },
    {
      "cell_type": "code",
      "metadata": {
        "id": "KrHd7nwtyNgT"
      },
      "source": [
        "df = pd.DataFrame(\n",
        "    {\n",
        "        'A' : ['foo', 'bar', 'foo', 'bar', 'foo', 'bar', 'foo', 'bar'],\n",
        "        'B' : ['one', 'one', 'two', 'three', 'two', 'two', 'one', 'three'],\n",
        "        'C' : np.random.randn(8),\n",
        "        'D' : np.random.randn(8)\n",
        "    }\n",
        ")"
      ],
      "execution_count": 61,
      "outputs": []
    },
    {
      "cell_type": "code",
      "metadata": {
        "colab": {
          "base_uri": "https://localhost:8080/",
          "height": 288
        },
        "id": "dkTWeCoOy4cD",
        "outputId": "beb4dd8e-5015-41b6-a0dc-a684290fc792"
      },
      "source": [
        "df"
      ],
      "execution_count": 62,
      "outputs": [
        {
          "output_type": "execute_result",
          "data": {
            "text/html": [
              "<div>\n",
              "<style scoped>\n",
              "    .dataframe tbody tr th:only-of-type {\n",
              "        vertical-align: middle;\n",
              "    }\n",
              "\n",
              "    .dataframe tbody tr th {\n",
              "        vertical-align: top;\n",
              "    }\n",
              "\n",
              "    .dataframe thead th {\n",
              "        text-align: right;\n",
              "    }\n",
              "</style>\n",
              "<table border=\"1\" class=\"dataframe\">\n",
              "  <thead>\n",
              "    <tr style=\"text-align: right;\">\n",
              "      <th></th>\n",
              "      <th>A</th>\n",
              "      <th>B</th>\n",
              "      <th>C</th>\n",
              "      <th>D</th>\n",
              "    </tr>\n",
              "  </thead>\n",
              "  <tbody>\n",
              "    <tr>\n",
              "      <th>0</th>\n",
              "      <td>foo</td>\n",
              "      <td>one</td>\n",
              "      <td>0.212147</td>\n",
              "      <td>-1.031738</td>\n",
              "    </tr>\n",
              "    <tr>\n",
              "      <th>1</th>\n",
              "      <td>bar</td>\n",
              "      <td>one</td>\n",
              "      <td>-1.073987</td>\n",
              "      <td>-0.755009</td>\n",
              "    </tr>\n",
              "    <tr>\n",
              "      <th>2</th>\n",
              "      <td>foo</td>\n",
              "      <td>two</td>\n",
              "      <td>0.691145</td>\n",
              "      <td>1.031189</td>\n",
              "    </tr>\n",
              "    <tr>\n",
              "      <th>3</th>\n",
              "      <td>bar</td>\n",
              "      <td>three</td>\n",
              "      <td>0.746714</td>\n",
              "      <td>-0.884803</td>\n",
              "    </tr>\n",
              "    <tr>\n",
              "      <th>4</th>\n",
              "      <td>foo</td>\n",
              "      <td>two</td>\n",
              "      <td>-0.284789</td>\n",
              "      <td>-0.052475</td>\n",
              "    </tr>\n",
              "    <tr>\n",
              "      <th>5</th>\n",
              "      <td>bar</td>\n",
              "      <td>two</td>\n",
              "      <td>0.524053</td>\n",
              "      <td>-0.977358</td>\n",
              "    </tr>\n",
              "    <tr>\n",
              "      <th>6</th>\n",
              "      <td>foo</td>\n",
              "      <td>one</td>\n",
              "      <td>0.825187</td>\n",
              "      <td>-0.841519</td>\n",
              "    </tr>\n",
              "    <tr>\n",
              "      <th>7</th>\n",
              "      <td>bar</td>\n",
              "      <td>three</td>\n",
              "      <td>-0.791619</td>\n",
              "      <td>-0.960230</td>\n",
              "    </tr>\n",
              "  </tbody>\n",
              "</table>\n",
              "</div>"
            ],
            "text/plain": [
              "     A      B         C         D\n",
              "0  foo    one  0.212147 -1.031738\n",
              "1  bar    one -1.073987 -0.755009\n",
              "2  foo    two  0.691145  1.031189\n",
              "3  bar  three  0.746714 -0.884803\n",
              "4  foo    two -0.284789 -0.052475\n",
              "5  bar    two  0.524053 -0.977358\n",
              "6  foo    one  0.825187 -0.841519\n",
              "7  bar  three -0.791619 -0.960230"
            ]
          },
          "metadata": {
            "tags": []
          },
          "execution_count": 62
        }
      ]
    },
    {
      "cell_type": "code",
      "metadata": {
        "id": "7RCj20_Gy49S"
      },
      "source": [
        "a = df.groupby('A').sum()\n",
        "b = df.groupby(['A', 'B']).sum()"
      ],
      "execution_count": 72,
      "outputs": []
    },
    {
      "cell_type": "code",
      "metadata": {
        "colab": {
          "base_uri": "https://localhost:8080/",
          "height": 138
        },
        "id": "J7sKbskozIYS",
        "outputId": "75a9cfec-8635-4aac-8700-a60531d68ccf"
      },
      "source": [
        "a"
      ],
      "execution_count": 73,
      "outputs": [
        {
          "output_type": "execute_result",
          "data": {
            "text/html": [
              "<div>\n",
              "<style scoped>\n",
              "    .dataframe tbody tr th:only-of-type {\n",
              "        vertical-align: middle;\n",
              "    }\n",
              "\n",
              "    .dataframe tbody tr th {\n",
              "        vertical-align: top;\n",
              "    }\n",
              "\n",
              "    .dataframe thead th {\n",
              "        text-align: right;\n",
              "    }\n",
              "</style>\n",
              "<table border=\"1\" class=\"dataframe\">\n",
              "  <thead>\n",
              "    <tr style=\"text-align: right;\">\n",
              "      <th></th>\n",
              "      <th>C</th>\n",
              "      <th>D</th>\n",
              "    </tr>\n",
              "    <tr>\n",
              "      <th>A</th>\n",
              "      <th></th>\n",
              "      <th></th>\n",
              "    </tr>\n",
              "  </thead>\n",
              "  <tbody>\n",
              "    <tr>\n",
              "      <th>bar</th>\n",
              "      <td>-0.594840</td>\n",
              "      <td>-3.577400</td>\n",
              "    </tr>\n",
              "    <tr>\n",
              "      <th>foo</th>\n",
              "      <td>1.443691</td>\n",
              "      <td>-0.894543</td>\n",
              "    </tr>\n",
              "  </tbody>\n",
              "</table>\n",
              "</div>"
            ],
            "text/plain": [
              "            C         D\n",
              "A                      \n",
              "bar -0.594840 -3.577400\n",
              "foo  1.443691 -0.894543"
            ]
          },
          "metadata": {
            "tags": []
          },
          "execution_count": 73
        }
      ]
    },
    {
      "cell_type": "code",
      "metadata": {
        "colab": {
          "base_uri": "https://localhost:8080/",
          "height": 288
        },
        "id": "AbufvCgZzPfS",
        "outputId": "845f18ef-a5c0-416f-8e3d-ad4383a9661e"
      },
      "source": [
        "df"
      ],
      "execution_count": 74,
      "outputs": [
        {
          "output_type": "execute_result",
          "data": {
            "text/html": [
              "<div>\n",
              "<style scoped>\n",
              "    .dataframe tbody tr th:only-of-type {\n",
              "        vertical-align: middle;\n",
              "    }\n",
              "\n",
              "    .dataframe tbody tr th {\n",
              "        vertical-align: top;\n",
              "    }\n",
              "\n",
              "    .dataframe thead th {\n",
              "        text-align: right;\n",
              "    }\n",
              "</style>\n",
              "<table border=\"1\" class=\"dataframe\">\n",
              "  <thead>\n",
              "    <tr style=\"text-align: right;\">\n",
              "      <th></th>\n",
              "      <th>A</th>\n",
              "      <th>B</th>\n",
              "      <th>C</th>\n",
              "      <th>D</th>\n",
              "    </tr>\n",
              "  </thead>\n",
              "  <tbody>\n",
              "    <tr>\n",
              "      <th>0</th>\n",
              "      <td>foo</td>\n",
              "      <td>one</td>\n",
              "      <td>0.212147</td>\n",
              "      <td>-1.031738</td>\n",
              "    </tr>\n",
              "    <tr>\n",
              "      <th>1</th>\n",
              "      <td>bar</td>\n",
              "      <td>one</td>\n",
              "      <td>-1.073987</td>\n",
              "      <td>-0.755009</td>\n",
              "    </tr>\n",
              "    <tr>\n",
              "      <th>2</th>\n",
              "      <td>foo</td>\n",
              "      <td>two</td>\n",
              "      <td>0.691145</td>\n",
              "      <td>1.031189</td>\n",
              "    </tr>\n",
              "    <tr>\n",
              "      <th>3</th>\n",
              "      <td>bar</td>\n",
              "      <td>three</td>\n",
              "      <td>0.746714</td>\n",
              "      <td>-0.884803</td>\n",
              "    </tr>\n",
              "    <tr>\n",
              "      <th>4</th>\n",
              "      <td>foo</td>\n",
              "      <td>two</td>\n",
              "      <td>-0.284789</td>\n",
              "      <td>-0.052475</td>\n",
              "    </tr>\n",
              "    <tr>\n",
              "      <th>5</th>\n",
              "      <td>bar</td>\n",
              "      <td>two</td>\n",
              "      <td>0.524053</td>\n",
              "      <td>-0.977358</td>\n",
              "    </tr>\n",
              "    <tr>\n",
              "      <th>6</th>\n",
              "      <td>foo</td>\n",
              "      <td>one</td>\n",
              "      <td>0.825187</td>\n",
              "      <td>-0.841519</td>\n",
              "    </tr>\n",
              "    <tr>\n",
              "      <th>7</th>\n",
              "      <td>bar</td>\n",
              "      <td>three</td>\n",
              "      <td>-0.791619</td>\n",
              "      <td>-0.960230</td>\n",
              "    </tr>\n",
              "  </tbody>\n",
              "</table>\n",
              "</div>"
            ],
            "text/plain": [
              "     A      B         C         D\n",
              "0  foo    one  0.212147 -1.031738\n",
              "1  bar    one -1.073987 -0.755009\n",
              "2  foo    two  0.691145  1.031189\n",
              "3  bar  three  0.746714 -0.884803\n",
              "4  foo    two -0.284789 -0.052475\n",
              "5  bar    two  0.524053 -0.977358\n",
              "6  foo    one  0.825187 -0.841519\n",
              "7  bar  three -0.791619 -0.960230"
            ]
          },
          "metadata": {
            "tags": []
          },
          "execution_count": 74
        }
      ]
    },
    {
      "cell_type": "code",
      "metadata": {
        "colab": {
          "base_uri": "https://localhost:8080/"
        },
        "id": "tGqLZrmvzShi",
        "outputId": "e680070b-e1bb-4fde-d237-fa03bd5c2f9b"
      },
      "source": [
        "x = [1, 2, 3]\n",
        "y = [4, 5, 6]\n",
        "zipped = zip(x,y)\n",
        "list(zipped)\n",
        "x2, y2 = zip(*zip(x,y))\n",
        "print(x2)\n",
        "print(y2)"
      ],
      "execution_count": 75,
      "outputs": [
        {
          "output_type": "stream",
          "text": [
            "(1, 2, 3)\n",
            "(4, 5, 6)\n"
          ],
          "name": "stdout"
        }
      ]
    },
    {
      "cell_type": "code",
      "metadata": {
        "colab": {
          "base_uri": "https://localhost:8080/"
        },
        "id": "TGbCobRs0OxS",
        "outputId": "9ba7ef62-c65d-4846-a52b-f2ac9bb2963d"
      },
      "source": [
        "x = [1,2,3]\n",
        "y= [4,5,6]\n",
        "zipped = zip(x,y)\n",
        "list(zipped)"
      ],
      "execution_count": 76,
      "outputs": [
        {
          "output_type": "execute_result",
          "data": {
            "text/plain": [
              "[(1, 4), (2, 5), (3, 6)]"
            ]
          },
          "metadata": {
            "tags": []
          },
          "execution_count": 76
        }
      ]
    },
    {
      "cell_type": "code",
      "metadata": {
        "id": "eNoRvyUd0bSC"
      },
      "source": [
        "x2,y2 = zip(*zip(x,y))"
      ],
      "execution_count": 77,
      "outputs": []
    },
    {
      "cell_type": "code",
      "metadata": {
        "colab": {
          "base_uri": "https://localhost:8080/"
        },
        "id": "LC-rv_Vs0k8k",
        "outputId": "d5b6ff2e-7839-4ab3-8444-a5f026555101"
      },
      "source": [
        "x,y"
      ],
      "execution_count": 78,
      "outputs": [
        {
          "output_type": "execute_result",
          "data": {
            "text/plain": [
              "([1, 2, 3], [4, 5, 6])"
            ]
          },
          "metadata": {
            "tags": []
          },
          "execution_count": 78
        }
      ]
    },
    {
      "cell_type": "code",
      "metadata": {
        "id": "tfn0AS0O1i-R"
      },
      "source": [
        "df = pd.DataFrame(\n",
        "    {\n",
        "        'A' : ['one', 'one', 'two', 'three'] * 3,\n",
        "        'B' : ['A', 'B', 'C'] * 4,\n",
        "        'C' : ['foo', 'foo', 'foo', 'bar', 'bar', 'bar' ] * 2,\n",
        "        'D' : np.random.randn(12),\n",
        "        'E' : np.random.randn(12)\n",
        "    }\n",
        ")"
      ],
      "execution_count": 79,
      "outputs": []
    },
    {
      "cell_type": "code",
      "metadata": {
        "colab": {
          "base_uri": "https://localhost:8080/",
          "height": 348
        },
        "id": "Ibp8McjB1oFh",
        "outputId": "42b9ce83-6922-4e9a-a1de-cb2f2328056d"
      },
      "source": [
        "pd.pivot_table(df, values = 'D', index = ['A', 'B'], columns = ['C'])"
      ],
      "execution_count": 80,
      "outputs": [
        {
          "output_type": "execute_result",
          "data": {
            "text/html": [
              "<div>\n",
              "<style scoped>\n",
              "    .dataframe tbody tr th:only-of-type {\n",
              "        vertical-align: middle;\n",
              "    }\n",
              "\n",
              "    .dataframe tbody tr th {\n",
              "        vertical-align: top;\n",
              "    }\n",
              "\n",
              "    .dataframe thead th {\n",
              "        text-align: right;\n",
              "    }\n",
              "</style>\n",
              "<table border=\"1\" class=\"dataframe\">\n",
              "  <thead>\n",
              "    <tr style=\"text-align: right;\">\n",
              "      <th></th>\n",
              "      <th>C</th>\n",
              "      <th>bar</th>\n",
              "      <th>foo</th>\n",
              "    </tr>\n",
              "    <tr>\n",
              "      <th>A</th>\n",
              "      <th>B</th>\n",
              "      <th></th>\n",
              "      <th></th>\n",
              "    </tr>\n",
              "  </thead>\n",
              "  <tbody>\n",
              "    <tr>\n",
              "      <th rowspan=\"3\" valign=\"top\">one</th>\n",
              "      <th>A</th>\n",
              "      <td>-0.047647</td>\n",
              "      <td>0.552419</td>\n",
              "    </tr>\n",
              "    <tr>\n",
              "      <th>B</th>\n",
              "      <td>1.037934</td>\n",
              "      <td>0.992016</td>\n",
              "    </tr>\n",
              "    <tr>\n",
              "      <th>C</th>\n",
              "      <td>-0.103203</td>\n",
              "      <td>1.328091</td>\n",
              "    </tr>\n",
              "    <tr>\n",
              "      <th rowspan=\"3\" valign=\"top\">three</th>\n",
              "      <th>A</th>\n",
              "      <td>1.283282</td>\n",
              "      <td>NaN</td>\n",
              "    </tr>\n",
              "    <tr>\n",
              "      <th>B</th>\n",
              "      <td>NaN</td>\n",
              "      <td>0.340450</td>\n",
              "    </tr>\n",
              "    <tr>\n",
              "      <th>C</th>\n",
              "      <td>0.224373</td>\n",
              "      <td>NaN</td>\n",
              "    </tr>\n",
              "    <tr>\n",
              "      <th rowspan=\"3\" valign=\"top\">two</th>\n",
              "      <th>A</th>\n",
              "      <td>NaN</td>\n",
              "      <td>-0.512681</td>\n",
              "    </tr>\n",
              "    <tr>\n",
              "      <th>B</th>\n",
              "      <td>0.991466</td>\n",
              "      <td>NaN</td>\n",
              "    </tr>\n",
              "    <tr>\n",
              "      <th>C</th>\n",
              "      <td>NaN</td>\n",
              "      <td>-0.812785</td>\n",
              "    </tr>\n",
              "  </tbody>\n",
              "</table>\n",
              "</div>"
            ],
            "text/plain": [
              "C             bar       foo\n",
              "A     B                    \n",
              "one   A -0.047647  0.552419\n",
              "      B  1.037934  0.992016\n",
              "      C -0.103203  1.328091\n",
              "three A  1.283282       NaN\n",
              "      B       NaN  0.340450\n",
              "      C  0.224373       NaN\n",
              "two   A       NaN -0.512681\n",
              "      B  0.991466       NaN\n",
              "      C       NaN -0.812785"
            ]
          },
          "metadata": {
            "tags": []
          },
          "execution_count": 80
        }
      ]
    },
    {
      "cell_type": "code",
      "metadata": {
        "id": "X6JQ-8i61sfx"
      },
      "source": [
        ""
      ],
      "execution_count": null,
      "outputs": []
    }
  ]
}